{
 "cells": [
  {
   "cell_type": "code",
   "execution_count": 8,
   "metadata": {
    "id": "_0sFj_SHNrHw"
   },
   "outputs": [],
   "source": [
    "# Load necessary packages\n",
    "import numpy as np\n",
    "import pandas as pd\n",
    "\n",
    "#to visualise all the columns in the dataframe\n",
    "pd.pandas.set_option('display.max_columns', None)\n",
    "\n",
    "from sklearn.impute import SimpleImputer\n",
    "from sklearn.feature_extraction.text import TfidfVectorizer\n",
    "from sklearn.metrics.pairwise import cosine_similarity\n",
    "from sklearn.model_selection import train_test_split\n",
    "from sklearn.metrics.pairwise import linear_kernel\n",
    "from sklearn.metrics import precision_score, recall_score, f1_score"
   ]
  },
  {
   "cell_type": "markdown",
   "metadata": {
    "id": "kpcmwKJnOXo_"
   },
   "source": [
    "## **Data Exploration**"
   ]
  },
  {
   "cell_type": "code",
   "execution_count": 10,
   "metadata": {
    "colab": {
     "base_uri": "https://localhost:8080/",
     "height": 243
    },
    "id": "dHCeOzi-ORcB",
    "outputId": "f00e50f7-3b16-4044-828e-32e16a65867f"
   },
   "outputs": [
    {
     "data": {
      "text/html": [
       "<div>\n",
       "<style scoped>\n",
       "    .dataframe tbody tr th:only-of-type {\n",
       "        vertical-align: middle;\n",
       "    }\n",
       "\n",
       "    .dataframe tbody tr th {\n",
       "        vertical-align: top;\n",
       "    }\n",
       "\n",
       "    .dataframe thead th {\n",
       "        text-align: right;\n",
       "    }\n",
       "</style>\n",
       "<table border=\"1\" class=\"dataframe\">\n",
       "  <thead>\n",
       "    <tr style=\"text-align: right;\">\n",
       "      <th></th>\n",
       "      <th>Id</th>\n",
       "      <th>primarySchool</th>\n",
       "      <th>primaryPercentage</th>\n",
       "      <th>primaryPassoutYear</th>\n",
       "      <th>secondarySchool</th>\n",
       "      <th>secondaryPercentage</th>\n",
       "      <th>secondaryPassoutYear</th>\n",
       "      <th>graduation</th>\n",
       "      <th>graduationPercentage</th>\n",
       "      <th>graduationPassoutYear</th>\n",
       "      <th>orgId</th>\n",
       "      <th>applicantId</th>\n",
       "      <th>certificates</th>\n",
       "      <th>name</th>\n",
       "      <th>degree</th>\n",
       "      <th>fieldOfStudy</th>\n",
       "      <th>percentage</th>\n",
       "      <th>certificate</th>\n",
       "      <th>createdOn</th>\n",
       "    </tr>\n",
       "  </thead>\n",
       "  <tbody>\n",
       "    <tr>\n",
       "      <th>0</th>\n",
       "      <td>966</td>\n",
       "      <td>NaN</td>\n",
       "      <td>0</td>\n",
       "      <td>0</td>\n",
       "      <td>NaN</td>\n",
       "      <td>0.0</td>\n",
       "      <td>0</td>\n",
       "      <td>NaN</td>\n",
       "      <td>0.0</td>\n",
       "      <td>0</td>\n",
       "      <td>NaN</td>\n",
       "      <td>AIJP1291</td>\n",
       "      <td>NaN</td>\n",
       "      <td>NaN</td>\n",
       "      <td>NaN</td>\n",
       "      <td>NaN</td>\n",
       "      <td>NaN</td>\n",
       "      <td>NaN</td>\n",
       "      <td>48:16.3</td>\n",
       "    </tr>\n",
       "    <tr>\n",
       "      <th>1</th>\n",
       "      <td>967</td>\n",
       "      <td>Marks High school</td>\n",
       "      <td>86</td>\n",
       "      <td>1999</td>\n",
       "      <td>Marks High school</td>\n",
       "      <td>80.0</td>\n",
       "      <td>2001</td>\n",
       "      <td>NaN</td>\n",
       "      <td>0.0</td>\n",
       "      <td>0</td>\n",
       "      <td>NaN</td>\n",
       "      <td>AIJV7014</td>\n",
       "      <td>NaN</td>\n",
       "      <td>NaN</td>\n",
       "      <td>NaN</td>\n",
       "      <td>NaN</td>\n",
       "      <td>NaN</td>\n",
       "      <td>NaN</td>\n",
       "      <td>48:16.3</td>\n",
       "    </tr>\n",
       "    <tr>\n",
       "      <th>2</th>\n",
       "      <td>968</td>\n",
       "      <td>NaN</td>\n",
       "      <td>0</td>\n",
       "      <td>0</td>\n",
       "      <td>NaN</td>\n",
       "      <td>0.0</td>\n",
       "      <td>0</td>\n",
       "      <td>NaN</td>\n",
       "      <td>0.0</td>\n",
       "      <td>0</td>\n",
       "      <td>NaN</td>\n",
       "      <td>AIAA7617</td>\n",
       "      <td>NaN</td>\n",
       "      <td>NaN</td>\n",
       "      <td>NaN</td>\n",
       "      <td>NaN</td>\n",
       "      <td>NaN</td>\n",
       "      <td>NaN</td>\n",
       "      <td>48:16.3</td>\n",
       "    </tr>\n",
       "    <tr>\n",
       "      <th>3</th>\n",
       "      <td>969</td>\n",
       "      <td>NaN</td>\n",
       "      <td>0</td>\n",
       "      <td>0</td>\n",
       "      <td>NaN</td>\n",
       "      <td>0.0</td>\n",
       "      <td>0</td>\n",
       "      <td>NaN</td>\n",
       "      <td>0.0</td>\n",
       "      <td>0</td>\n",
       "      <td>NaN</td>\n",
       "      <td>AIRK6266</td>\n",
       "      <td>NaN</td>\n",
       "      <td>NaN</td>\n",
       "      <td>NaN</td>\n",
       "      <td>NaN</td>\n",
       "      <td>NaN</td>\n",
       "      <td>NaN</td>\n",
       "      <td>48:16.3</td>\n",
       "    </tr>\n",
       "    <tr>\n",
       "      <th>4</th>\n",
       "      <td>976</td>\n",
       "      <td>NaN</td>\n",
       "      <td>0</td>\n",
       "      <td>0</td>\n",
       "      <td>NaN</td>\n",
       "      <td>0.0</td>\n",
       "      <td>0</td>\n",
       "      <td>NaN</td>\n",
       "      <td>0.0</td>\n",
       "      <td>0</td>\n",
       "      <td>NaN</td>\n",
       "      <td>AIDK9811</td>\n",
       "      <td>NaN</td>\n",
       "      <td>NaN</td>\n",
       "      <td>NaN</td>\n",
       "      <td>NaN</td>\n",
       "      <td>NaN</td>\n",
       "      <td>NaN</td>\n",
       "      <td>48:16.3</td>\n",
       "    </tr>\n",
       "  </tbody>\n",
       "</table>\n",
       "</div>"
      ],
      "text/plain": [
       "    Id      primarySchool  primaryPercentage  primaryPassoutYear  \\\n",
       "0  966                NaN                  0                   0   \n",
       "1  967  Marks High school                 86                1999   \n",
       "2  968                NaN                  0                   0   \n",
       "3  969                NaN                  0                   0   \n",
       "4  976                NaN                  0                   0   \n",
       "\n",
       "     secondarySchool  secondaryPercentage  secondaryPassoutYear graduation  \\\n",
       "0                NaN                  0.0                     0        NaN   \n",
       "1  Marks High school                 80.0                  2001        NaN   \n",
       "2                NaN                  0.0                     0        NaN   \n",
       "3                NaN                  0.0                     0        NaN   \n",
       "4                NaN                  0.0                     0        NaN   \n",
       "\n",
       "   graduationPercentage  graduationPassoutYear  orgId applicantId  \\\n",
       "0                   0.0                      0    NaN    AIJP1291   \n",
       "1                   0.0                      0    NaN    AIJV7014   \n",
       "2                   0.0                      0    NaN    AIAA7617   \n",
       "3                   0.0                      0    NaN    AIRK6266   \n",
       "4                   0.0                      0    NaN    AIDK9811   \n",
       "\n",
       "  certificates  name  degree  fieldOfStudy  percentage  certificate createdOn  \n",
       "0          NaN   NaN     NaN           NaN         NaN          NaN   48:16.3  \n",
       "1          NaN   NaN     NaN           NaN         NaN          NaN   48:16.3  \n",
       "2          NaN   NaN     NaN           NaN         NaN          NaN   48:16.3  \n",
       "3          NaN   NaN     NaN           NaN         NaN          NaN   48:16.3  \n",
       "4          NaN   NaN     NaN           NaN         NaN          NaN   48:16.3  "
      ]
     },
     "execution_count": 10,
     "metadata": {},
     "output_type": "execute_result"
    }
   ],
   "source": [
    "# 1. Education dataset\n",
    "ed = pd.read_csv('Datasets/education.csv')\n",
    "ed.head()"
   ]
  },
  {
   "cell_type": "code",
   "execution_count": 11,
   "metadata": {
    "colab": {
     "base_uri": "https://localhost:8080/"
    },
    "id": "EF3pZBSUIeXp",
    "outputId": "e7ad3f8c-8e76-423a-9ea2-b52873a52fdd"
   },
   "outputs": [
    {
     "data": {
      "text/plain": [
       "(188, 19)"
      ]
     },
     "execution_count": 11,
     "metadata": {},
     "output_type": "execute_result"
    }
   ],
   "source": [
    "# Total no.of columns and rows\n",
    "ed.shape"
   ]
  },
  {
   "cell_type": "code",
   "execution_count": 12,
   "metadata": {
    "colab": {
     "base_uri": "https://localhost:8080/"
    },
    "id": "g0yv8e2JVRlE",
    "outputId": "c95c3a1c-32ed-4365-92d7-f7fee31d9f0e"
   },
   "outputs": [
    {
     "data": {
      "text/plain": [
       "Index(['Id', 'primarySchool', 'primaryPercentage', 'primaryPassoutYear',\n",
       "       'secondarySchool', 'secondaryPercentage', 'secondaryPassoutYear',\n",
       "       'graduation', 'graduationPercentage', 'graduationPassoutYear', 'orgId',\n",
       "       'applicantId', 'certificates', 'name', 'degree', 'fieldOfStudy',\n",
       "       'percentage', 'certificate', 'createdOn'],\n",
       "      dtype='object')"
      ]
     },
     "execution_count": 12,
     "metadata": {},
     "output_type": "execute_result"
    }
   ],
   "source": [
    "# List of columns\n",
    "ed.columns"
   ]
  },
  {
   "cell_type": "code",
   "execution_count": 13,
   "metadata": {
    "colab": {
     "base_uri": "https://localhost:8080/"
    },
    "id": "Vn19qrGfUHCy",
    "outputId": "14654252-0c6b-48d4-f091-8c5ae930c1e8"
   },
   "outputs": [
    {
     "data": {
      "text/plain": [
       "Id                         int64\n",
       "primarySchool             object\n",
       "primaryPercentage          int64\n",
       "primaryPassoutYear         int64\n",
       "secondarySchool           object\n",
       "secondaryPercentage      float64\n",
       "secondaryPassoutYear       int64\n",
       "graduation                object\n",
       "graduationPercentage     float64\n",
       "graduationPassoutYear      int64\n",
       "orgId                    float64\n",
       "applicantId               object\n",
       "certificates              object\n",
       "name                     float64\n",
       "degree                   float64\n",
       "fieldOfStudy             float64\n",
       "percentage               float64\n",
       "certificate              float64\n",
       "createdOn                 object\n",
       "dtype: object"
      ]
     },
     "execution_count": 13,
     "metadata": {},
     "output_type": "execute_result"
    }
   ],
   "source": [
    "# Check datatypes of all the columns\n",
    "ed.dtypes"
   ]
  },
  {
   "cell_type": "code",
   "execution_count": 14,
   "metadata": {
    "colab": {
     "base_uri": "https://localhost:8080/"
    },
    "id": "MOYUduz8TSEn",
    "outputId": "e066349c-f73c-4190-ebf5-e6c2d4822f6a"
   },
   "outputs": [
    {
     "name": "stdout",
     "output_type": "stream",
     "text": [
      "<class 'pandas.core.frame.DataFrame'>\n",
      "RangeIndex: 188 entries, 0 to 187\n",
      "Data columns (total 19 columns):\n",
      " #   Column                 Non-Null Count  Dtype  \n",
      "---  ------                 --------------  -----  \n",
      " 0   Id                     188 non-null    int64  \n",
      " 1   primarySchool          11 non-null     object \n",
      " 2   primaryPercentage      188 non-null    int64  \n",
      " 3   primaryPassoutYear     188 non-null    int64  \n",
      " 4   secondarySchool        8 non-null      object \n",
      " 5   secondaryPercentage    188 non-null    float64\n",
      " 6   secondaryPassoutYear   188 non-null    int64  \n",
      " 7   graduation             9 non-null      object \n",
      " 8   graduationPercentage   188 non-null    float64\n",
      " 9   graduationPassoutYear  188 non-null    int64  \n",
      " 10  orgId                  0 non-null      float64\n",
      " 11  applicantId            188 non-null    object \n",
      " 12  certificates           15 non-null     object \n",
      " 13  name                   0 non-null      float64\n",
      " 14  degree                 0 non-null      float64\n",
      " 15  fieldOfStudy           0 non-null      float64\n",
      " 16  percentage             0 non-null      float64\n",
      " 17  certificate            0 non-null      float64\n",
      " 18  createdOn              188 non-null    object \n",
      "dtypes: float64(8), int64(5), object(6)\n",
      "memory usage: 28.0+ KB\n"
     ]
    }
   ],
   "source": [
    "# Information of the dataset\n",
    "ed.info()"
   ]
  },
  {
   "cell_type": "code",
   "execution_count": 15,
   "metadata": {
    "colab": {
     "base_uri": "https://localhost:8080/",
     "height": 320
    },
    "id": "AwAaWZpKTTBW",
    "outputId": "71069cab-7182-4dbd-b052-22f50037c9e2"
   },
   "outputs": [
    {
     "data": {
      "text/html": [
       "<div>\n",
       "<style scoped>\n",
       "    .dataframe tbody tr th:only-of-type {\n",
       "        vertical-align: middle;\n",
       "    }\n",
       "\n",
       "    .dataframe tbody tr th {\n",
       "        vertical-align: top;\n",
       "    }\n",
       "\n",
       "    .dataframe thead th {\n",
       "        text-align: right;\n",
       "    }\n",
       "</style>\n",
       "<table border=\"1\" class=\"dataframe\">\n",
       "  <thead>\n",
       "    <tr style=\"text-align: right;\">\n",
       "      <th></th>\n",
       "      <th>Id</th>\n",
       "      <th>primaryPercentage</th>\n",
       "      <th>primaryPassoutYear</th>\n",
       "      <th>secondaryPercentage</th>\n",
       "      <th>secondaryPassoutYear</th>\n",
       "      <th>graduationPercentage</th>\n",
       "      <th>graduationPassoutYear</th>\n",
       "      <th>orgId</th>\n",
       "      <th>name</th>\n",
       "      <th>degree</th>\n",
       "      <th>fieldOfStudy</th>\n",
       "      <th>percentage</th>\n",
       "      <th>certificate</th>\n",
       "    </tr>\n",
       "  </thead>\n",
       "  <tbody>\n",
       "    <tr>\n",
       "      <th>count</th>\n",
       "      <td>188.000000</td>\n",
       "      <td>188.000000</td>\n",
       "      <td>188.000000</td>\n",
       "      <td>188.000000</td>\n",
       "      <td>188.000000</td>\n",
       "      <td>188.000000</td>\n",
       "      <td>188.000000</td>\n",
       "      <td>0.0</td>\n",
       "      <td>0.0</td>\n",
       "      <td>0.0</td>\n",
       "      <td>0.0</td>\n",
       "      <td>0.0</td>\n",
       "      <td>0.0</td>\n",
       "    </tr>\n",
       "    <tr>\n",
       "      <th>mean</th>\n",
       "      <td>1101.771277</td>\n",
       "      <td>2.085106</td>\n",
       "      <td>77.218085</td>\n",
       "      <td>2.026596</td>\n",
       "      <td>66.574468</td>\n",
       "      <td>1.979255</td>\n",
       "      <td>88.207447</td>\n",
       "      <td>NaN</td>\n",
       "      <td>NaN</td>\n",
       "      <td>NaN</td>\n",
       "      <td>NaN</td>\n",
       "      <td>NaN</td>\n",
       "      <td>NaN</td>\n",
       "    </tr>\n",
       "    <tr>\n",
       "      <th>std</th>\n",
       "      <td>66.721032</td>\n",
       "      <td>11.914275</td>\n",
       "      <td>373.435188</td>\n",
       "      <td>11.550028</td>\n",
       "      <td>346.151925</td>\n",
       "      <td>11.504272</td>\n",
       "      <td>400.824477</td>\n",
       "      <td>NaN</td>\n",
       "      <td>NaN</td>\n",
       "      <td>NaN</td>\n",
       "      <td>NaN</td>\n",
       "      <td>NaN</td>\n",
       "      <td>NaN</td>\n",
       "    </tr>\n",
       "    <tr>\n",
       "      <th>min</th>\n",
       "      <td>966.000000</td>\n",
       "      <td>0.000000</td>\n",
       "      <td>0.000000</td>\n",
       "      <td>0.000000</td>\n",
       "      <td>0.000000</td>\n",
       "      <td>0.000000</td>\n",
       "      <td>0.000000</td>\n",
       "      <td>NaN</td>\n",
       "      <td>NaN</td>\n",
       "      <td>NaN</td>\n",
       "      <td>NaN</td>\n",
       "      <td>NaN</td>\n",
       "      <td>NaN</td>\n",
       "    </tr>\n",
       "    <tr>\n",
       "      <th>25%</th>\n",
       "      <td>1057.750000</td>\n",
       "      <td>0.000000</td>\n",
       "      <td>0.000000</td>\n",
       "      <td>0.000000</td>\n",
       "      <td>0.000000</td>\n",
       "      <td>0.000000</td>\n",
       "      <td>0.000000</td>\n",
       "      <td>NaN</td>\n",
       "      <td>NaN</td>\n",
       "      <td>NaN</td>\n",
       "      <td>NaN</td>\n",
       "      <td>NaN</td>\n",
       "      <td>NaN</td>\n",
       "    </tr>\n",
       "    <tr>\n",
       "      <th>50%</th>\n",
       "      <td>1110.500000</td>\n",
       "      <td>0.000000</td>\n",
       "      <td>0.000000</td>\n",
       "      <td>0.000000</td>\n",
       "      <td>0.000000</td>\n",
       "      <td>0.000000</td>\n",
       "      <td>0.000000</td>\n",
       "      <td>NaN</td>\n",
       "      <td>NaN</td>\n",
       "      <td>NaN</td>\n",
       "      <td>NaN</td>\n",
       "      <td>NaN</td>\n",
       "      <td>NaN</td>\n",
       "    </tr>\n",
       "    <tr>\n",
       "      <th>75%</th>\n",
       "      <td>1157.250000</td>\n",
       "      <td>0.000000</td>\n",
       "      <td>0.000000</td>\n",
       "      <td>0.000000</td>\n",
       "      <td>0.000000</td>\n",
       "      <td>0.000000</td>\n",
       "      <td>0.000000</td>\n",
       "      <td>NaN</td>\n",
       "      <td>NaN</td>\n",
       "      <td>NaN</td>\n",
       "      <td>NaN</td>\n",
       "      <td>NaN</td>\n",
       "      <td>NaN</td>\n",
       "    </tr>\n",
       "    <tr>\n",
       "      <th>max</th>\n",
       "      <td>1204.000000</td>\n",
       "      <td>89.000000</td>\n",
       "      <td>2017.000000</td>\n",
       "      <td>90.000000</td>\n",
       "      <td>2019.000000</td>\n",
       "      <td>89.000000</td>\n",
       "      <td>2023.000000</td>\n",
       "      <td>NaN</td>\n",
       "      <td>NaN</td>\n",
       "      <td>NaN</td>\n",
       "      <td>NaN</td>\n",
       "      <td>NaN</td>\n",
       "      <td>NaN</td>\n",
       "    </tr>\n",
       "  </tbody>\n",
       "</table>\n",
       "</div>"
      ],
      "text/plain": [
       "                Id  primaryPercentage  primaryPassoutYear  \\\n",
       "count   188.000000         188.000000          188.000000   \n",
       "mean   1101.771277           2.085106           77.218085   \n",
       "std      66.721032          11.914275          373.435188   \n",
       "min     966.000000           0.000000            0.000000   \n",
       "25%    1057.750000           0.000000            0.000000   \n",
       "50%    1110.500000           0.000000            0.000000   \n",
       "75%    1157.250000           0.000000            0.000000   \n",
       "max    1204.000000          89.000000         2017.000000   \n",
       "\n",
       "       secondaryPercentage  secondaryPassoutYear  graduationPercentage  \\\n",
       "count           188.000000            188.000000            188.000000   \n",
       "mean              2.026596             66.574468              1.979255   \n",
       "std              11.550028            346.151925             11.504272   \n",
       "min               0.000000              0.000000              0.000000   \n",
       "25%               0.000000              0.000000              0.000000   \n",
       "50%               0.000000              0.000000              0.000000   \n",
       "75%               0.000000              0.000000              0.000000   \n",
       "max              90.000000           2019.000000             89.000000   \n",
       "\n",
       "       graduationPassoutYear  orgId  name  degree  fieldOfStudy  percentage  \\\n",
       "count             188.000000    0.0   0.0     0.0           0.0         0.0   \n",
       "mean               88.207447    NaN   NaN     NaN           NaN         NaN   \n",
       "std               400.824477    NaN   NaN     NaN           NaN         NaN   \n",
       "min                 0.000000    NaN   NaN     NaN           NaN         NaN   \n",
       "25%                 0.000000    NaN   NaN     NaN           NaN         NaN   \n",
       "50%                 0.000000    NaN   NaN     NaN           NaN         NaN   \n",
       "75%                 0.000000    NaN   NaN     NaN           NaN         NaN   \n",
       "max              2023.000000    NaN   NaN     NaN           NaN         NaN   \n",
       "\n",
       "       certificate  \n",
       "count          0.0  \n",
       "mean           NaN  \n",
       "std            NaN  \n",
       "min            NaN  \n",
       "25%            NaN  \n",
       "50%            NaN  \n",
       "75%            NaN  \n",
       "max            NaN  "
      ]
     },
     "execution_count": 15,
     "metadata": {},
     "output_type": "execute_result"
    }
   ],
   "source": [
    "# Statistical info of the dataset\n",
    "ed.describe()"
   ]
  },
  {
   "cell_type": "code",
   "execution_count": 16,
   "metadata": {
    "colab": {
     "base_uri": "https://localhost:8080/"
    },
    "id": "Dn0p8HMeTTK-",
    "outputId": "03bd8679-b782-4a85-965b-7fcd2e43b298"
   },
   "outputs": [
    {
     "data": {
      "text/plain": [
       "Id                         0\n",
       "primarySchool            177\n",
       "primaryPercentage          0\n",
       "primaryPassoutYear         0\n",
       "secondarySchool          180\n",
       "secondaryPercentage        0\n",
       "secondaryPassoutYear       0\n",
       "graduation               179\n",
       "graduationPercentage       0\n",
       "graduationPassoutYear      0\n",
       "orgId                    188\n",
       "applicantId                0\n",
       "certificates             173\n",
       "name                     188\n",
       "degree                   188\n",
       "fieldOfStudy             188\n",
       "percentage               188\n",
       "certificate              188\n",
       "createdOn                  0\n",
       "dtype: int64"
      ]
     },
     "execution_count": 16,
     "metadata": {},
     "output_type": "execute_result"
    }
   ],
   "source": [
    "# Check for missing values\n",
    "ed.isnull().sum()"
   ]
  },
  {
   "cell_type": "code",
   "execution_count": 17,
   "metadata": {
    "colab": {
     "base_uri": "https://localhost:8080/"
    },
    "id": "KAXH5E5BTTXs",
    "outputId": "30d8e100-3fdf-478d-fc7b-6f240d79dcd7"
   },
   "outputs": [
    {
     "data": {
      "text/plain": [
       "Index(['Id', 'primaryPercentage', 'secondaryPercentage',\n",
       "       'graduationPercentage', 'applicantId'],\n",
       "      dtype='object')"
      ]
     },
     "execution_count": 17,
     "metadata": {},
     "output_type": "execute_result"
    }
   ],
   "source": [
    "# Dropping columns that are not contibuting for further analysis\n",
    "ed = ed.drop(['primarySchool', 'secondarySchool', 'graduation', 'primaryPassoutYear', 'secondaryPassoutYear', 'graduationPassoutYear', 'orgId', 'certificates', 'name', 'degree', 'fieldOfStudy', 'percentage', 'certificate', 'createdOn'], axis=1)\n",
    "ed.columns"
   ]
  },
  {
   "cell_type": "code",
   "execution_count": 18,
   "metadata": {
    "colab": {
     "base_uri": "https://localhost:8080/"
    },
    "id": "wNbwCwBmTTUL",
    "outputId": "1b0740aa-37ab-4923-d0aa-c2d437337da8"
   },
   "outputs": [
    {
     "data": {
      "text/plain": [
       "Index(['applicantId'], dtype='object')"
      ]
     },
     "execution_count": 18,
     "metadata": {},
     "output_type": "execute_result"
    }
   ],
   "source": [
    "# Check string columns\n",
    "string_cols_ed = ed.select_dtypes(include='object')\n",
    "string_cols_ed.columns"
   ]
  },
  {
   "cell_type": "code",
   "execution_count": 19,
   "metadata": {
    "colab": {
     "base_uri": "https://localhost:8080/"
    },
    "id": "r1waCDC2TTQe",
    "outputId": "2c2f0540-64a5-4302-fe6e-02f4f7f6a729"
   },
   "outputs": [
    {
     "data": {
      "text/plain": [
       "Index(['Id', 'primaryPercentage', 'secondaryPercentage',\n",
       "       'graduationPercentage'],\n",
       "      dtype='object')"
      ]
     },
     "execution_count": 19,
     "metadata": {},
     "output_type": "execute_result"
    }
   ],
   "source": [
    "# Check numerical columns\n",
    "numerical_cols_ed = ed.select_dtypes(include='number')\n",
    "numerical_cols_ed.columns"
   ]
  },
  {
   "cell_type": "code",
   "execution_count": 20,
   "metadata": {
    "colab": {
     "base_uri": "https://localhost:8080/",
     "height": 313
    },
    "id": "iInuuPDIOwi3",
    "outputId": "2966dbff-d898-456b-f905-0a70d4e4c3c9"
   },
   "outputs": [
    {
     "data": {
      "text/html": [
       "<div>\n",
       "<style scoped>\n",
       "    .dataframe tbody tr th:only-of-type {\n",
       "        vertical-align: middle;\n",
       "    }\n",
       "\n",
       "    .dataframe tbody tr th {\n",
       "        vertical-align: top;\n",
       "    }\n",
       "\n",
       "    .dataframe thead th {\n",
       "        text-align: right;\n",
       "    }\n",
       "</style>\n",
       "<table border=\"1\" class=\"dataframe\">\n",
       "  <thead>\n",
       "    <tr style=\"text-align: right;\">\n",
       "      <th></th>\n",
       "      <th>employmentId</th>\n",
       "      <th>uploadResume</th>\n",
       "      <th>currentCompany</th>\n",
       "      <th>currentDesignation</th>\n",
       "      <th>annualSalary</th>\n",
       "      <th>industry</th>\n",
       "      <th>functionalArea</th>\n",
       "      <th>role</th>\n",
       "      <th>currentLocation</th>\n",
       "      <th>orgId</th>\n",
       "      <th>noticePeriod</th>\n",
       "      <th>skills</th>\n",
       "      <th>totalWorkExp</th>\n",
       "      <th>minExp</th>\n",
       "      <th>maxExp</th>\n",
       "      <th>applicantId</th>\n",
       "      <th>preferedLocation</th>\n",
       "      <th>holdingAnyOffer</th>\n",
       "      <th>expectedCtc</th>\n",
       "      <th>feedback</th>\n",
       "      <th>comment</th>\n",
       "      <th>isCurrent</th>\n",
       "      <th>companyEmail</th>\n",
       "      <th>packageOffered</th>\n",
       "      <th>lastWorkingDay</th>\n",
       "      <th>remarks</th>\n",
       "      <th>previousCompany</th>\n",
       "      <th>offerLetter</th>\n",
       "      <th>experienceLetter</th>\n",
       "      <th>relieveingLetter</th>\n",
       "      <th>isRecent</th>\n",
       "      <th>paySlips</th>\n",
       "      <th>createdOn</th>\n",
       "    </tr>\n",
       "  </thead>\n",
       "  <tbody>\n",
       "    <tr>\n",
       "      <th>0</th>\n",
       "      <td>48</td>\n",
       "      <td>NaN</td>\n",
       "      <td>ESMOB Technologies</td>\n",
       "      <td>React JS Developer</td>\n",
       "      <td>3.5</td>\n",
       "      <td>1.0</td>\n",
       "      <td>Software Developer</td>\n",
       "      <td>NaN</td>\n",
       "      <td>Hyderabad</td>\n",
       "      <td>1.0</td>\n",
       "      <td>NaN</td>\n",
       "      <td>{css,js}</td>\n",
       "      <td>2.75</td>\n",
       "      <td>NaN</td>\n",
       "      <td>NaN</td>\n",
       "      <td>AISB2256</td>\n",
       "      <td>NaN</td>\n",
       "      <td>NaN</td>\n",
       "      <td>NaN</td>\n",
       "      <td>NaN</td>\n",
       "      <td>NaN</td>\n",
       "      <td>NaN</td>\n",
       "      <td>NaN</td>\n",
       "      <td>NaN</td>\n",
       "      <td>NaN</td>\n",
       "      <td>NaN</td>\n",
       "      <td>NaN</td>\n",
       "      <td>NaN</td>\n",
       "      <td>NaN</td>\n",
       "      <td>NaN</td>\n",
       "      <td>NaN</td>\n",
       "      <td>NaN</td>\n",
       "      <td>49:44.0</td>\n",
       "    </tr>\n",
       "    <tr>\n",
       "      <th>1</th>\n",
       "      <td>61</td>\n",
       "      <td>NaN</td>\n",
       "      <td>Lejara Global IT Solutions Pvt. Ltd</td>\n",
       "      <td>RPA Developer</td>\n",
       "      <td>4.5</td>\n",
       "      <td>1.0</td>\n",
       "      <td>Software Developer</td>\n",
       "      <td>NaN</td>\n",
       "      <td>Hyderabad</td>\n",
       "      <td>1.0</td>\n",
       "      <td>NaN</td>\n",
       "      <td>{RPA,python}</td>\n",
       "      <td>6.00</td>\n",
       "      <td>NaN</td>\n",
       "      <td>NaN</td>\n",
       "      <td>AIPH2278</td>\n",
       "      <td>NaN</td>\n",
       "      <td>NaN</td>\n",
       "      <td>NaN</td>\n",
       "      <td>NaN</td>\n",
       "      <td>NaN</td>\n",
       "      <td>NaN</td>\n",
       "      <td>NaN</td>\n",
       "      <td>NaN</td>\n",
       "      <td>NaN</td>\n",
       "      <td>NaN</td>\n",
       "      <td>NaN</td>\n",
       "      <td>NaN</td>\n",
       "      <td>NaN</td>\n",
       "      <td>NaN</td>\n",
       "      <td>NaN</td>\n",
       "      <td>NaN</td>\n",
       "      <td>49:44.0</td>\n",
       "    </tr>\n",
       "    <tr>\n",
       "      <th>2</th>\n",
       "      <td>62</td>\n",
       "      <td>NaN</td>\n",
       "      <td>Dhatri Info Solutions Pvt. Ltd,</td>\n",
       "      <td>Java Developer</td>\n",
       "      <td>360000</td>\n",
       "      <td>1.0</td>\n",
       "      <td>Software Developer</td>\n",
       "      <td>NaN</td>\n",
       "      <td>Hyderabad</td>\n",
       "      <td>1.0</td>\n",
       "      <td>NaN</td>\n",
       "      <td>{java,spring,hibernate}</td>\n",
       "      <td>5.00</td>\n",
       "      <td>NaN</td>\n",
       "      <td>NaN</td>\n",
       "      <td>AIST2288</td>\n",
       "      <td>NaN</td>\n",
       "      <td>NaN</td>\n",
       "      <td>NaN</td>\n",
       "      <td>NaN</td>\n",
       "      <td>NaN</td>\n",
       "      <td>NaN</td>\n",
       "      <td>NaN</td>\n",
       "      <td>NaN</td>\n",
       "      <td>NaN</td>\n",
       "      <td>NaN</td>\n",
       "      <td>NaN</td>\n",
       "      <td>NaN</td>\n",
       "      <td>NaN</td>\n",
       "      <td>NaN</td>\n",
       "      <td>NaN</td>\n",
       "      <td>NaN</td>\n",
       "      <td>49:44.0</td>\n",
       "    </tr>\n",
       "    <tr>\n",
       "      <th>3</th>\n",
       "      <td>63</td>\n",
       "      <td>NaN</td>\n",
       "      <td>IT Contractors</td>\n",
       "      <td>Java Developer</td>\n",
       "      <td>490000</td>\n",
       "      <td>1.0</td>\n",
       "      <td>IT</td>\n",
       "      <td>NaN</td>\n",
       "      <td>Bangalore</td>\n",
       "      <td>1.0</td>\n",
       "      <td>NaN</td>\n",
       "      <td>{Java,Springboot}</td>\n",
       "      <td>3.00</td>\n",
       "      <td>NaN</td>\n",
       "      <td>NaN</td>\n",
       "      <td>AIVV2277</td>\n",
       "      <td>NaN</td>\n",
       "      <td>NaN</td>\n",
       "      <td>NaN</td>\n",
       "      <td>NaN</td>\n",
       "      <td>NaN</td>\n",
       "      <td>NaN</td>\n",
       "      <td>NaN</td>\n",
       "      <td>NaN</td>\n",
       "      <td>NaN</td>\n",
       "      <td>NaN</td>\n",
       "      <td>NaN</td>\n",
       "      <td>NaN</td>\n",
       "      <td>NaN</td>\n",
       "      <td>NaN</td>\n",
       "      <td>NaN</td>\n",
       "      <td>NaN</td>\n",
       "      <td>49:44.0</td>\n",
       "    </tr>\n",
       "    <tr>\n",
       "      <th>4</th>\n",
       "      <td>64</td>\n",
       "      <td>NaN</td>\n",
       "      <td>Novell Logic</td>\n",
       "      <td>Java Developer</td>\n",
       "      <td>500000</td>\n",
       "      <td>1.0</td>\n",
       "      <td>IT</td>\n",
       "      <td>NaN</td>\n",
       "      <td>Bangalore</td>\n",
       "      <td>1.0</td>\n",
       "      <td>NaN</td>\n",
       "      <td>{Java,springboot}</td>\n",
       "      <td>3.00</td>\n",
       "      <td>NaN</td>\n",
       "      <td>NaN</td>\n",
       "      <td>AIMV2241</td>\n",
       "      <td>NaN</td>\n",
       "      <td>NaN</td>\n",
       "      <td>NaN</td>\n",
       "      <td>NaN</td>\n",
       "      <td>NaN</td>\n",
       "      <td>NaN</td>\n",
       "      <td>NaN</td>\n",
       "      <td>NaN</td>\n",
       "      <td>NaN</td>\n",
       "      <td>NaN</td>\n",
       "      <td>NaN</td>\n",
       "      <td>NaN</td>\n",
       "      <td>NaN</td>\n",
       "      <td>NaN</td>\n",
       "      <td>NaN</td>\n",
       "      <td>NaN</td>\n",
       "      <td>49:44.0</td>\n",
       "    </tr>\n",
       "  </tbody>\n",
       "</table>\n",
       "</div>"
      ],
      "text/plain": [
       "   employmentId uploadResume                       currentCompany  \\\n",
       "0            48          NaN                   ESMOB Technologies   \n",
       "1            61          NaN  Lejara Global IT Solutions Pvt. Ltd   \n",
       "2            62          NaN      Dhatri Info Solutions Pvt. Ltd,   \n",
       "3            63          NaN                       IT Contractors   \n",
       "4            64          NaN                         Novell Logic   \n",
       "\n",
       "   currentDesignation annualSalary  industry      functionalArea  role  \\\n",
       "0  React JS Developer          3.5       1.0  Software Developer   NaN   \n",
       "1       RPA Developer          4.5       1.0  Software Developer   NaN   \n",
       "2      Java Developer       360000       1.0  Software Developer   NaN   \n",
       "3     Java Developer        490000       1.0                  IT   NaN   \n",
       "4     Java Developer        500000       1.0                  IT   NaN   \n",
       "\n",
       "  currentLocation  orgId noticePeriod                   skills  totalWorkExp  \\\n",
       "0       Hyderabad    1.0          NaN                 {css,js}          2.75   \n",
       "1       Hyderabad    1.0          NaN             {RPA,python}          6.00   \n",
       "2       Hyderabad    1.0          NaN  {java,spring,hibernate}          5.00   \n",
       "3       Bangalore    1.0          NaN        {Java,Springboot}          3.00   \n",
       "4       Bangalore    1.0          NaN        {Java,springboot}          3.00   \n",
       "\n",
       "   minExp  maxExp applicantId preferedLocation holdingAnyOffer expectedCtc  \\\n",
       "0     NaN     NaN    AISB2256              NaN             NaN         NaN   \n",
       "1     NaN     NaN    AIPH2278              NaN             NaN         NaN   \n",
       "2     NaN     NaN    AIST2288              NaN             NaN         NaN   \n",
       "3     NaN     NaN    AIVV2277              NaN             NaN         NaN   \n",
       "4     NaN     NaN    AIMV2241              NaN             NaN         NaN   \n",
       "\n",
       "  feedback comment isCurrent companyEmail  packageOffered lastWorkingDay  \\\n",
       "0      NaN     NaN       NaN          NaN             NaN            NaN   \n",
       "1      NaN     NaN       NaN          NaN             NaN            NaN   \n",
       "2      NaN     NaN       NaN          NaN             NaN            NaN   \n",
       "3      NaN     NaN       NaN          NaN             NaN            NaN   \n",
       "4      NaN     NaN       NaN          NaN             NaN            NaN   \n",
       "\n",
       "  remarks  previousCompany  offerLetter  experienceLetter  relieveingLetter  \\\n",
       "0     NaN              NaN          NaN               NaN               NaN   \n",
       "1     NaN              NaN          NaN               NaN               NaN   \n",
       "2     NaN              NaN          NaN               NaN               NaN   \n",
       "3     NaN              NaN          NaN               NaN               NaN   \n",
       "4     NaN              NaN          NaN               NaN               NaN   \n",
       "\n",
       "   isRecent  paySlips createdOn  \n",
       "0       NaN       NaN   49:44.0  \n",
       "1       NaN       NaN   49:44.0  \n",
       "2       NaN       NaN   49:44.0  \n",
       "3       NaN       NaN   49:44.0  \n",
       "4       NaN       NaN   49:44.0  "
      ]
     },
     "execution_count": 20,
     "metadata": {},
     "output_type": "execute_result"
    }
   ],
   "source": [
    "# 2. Employment dataset\n",
    "emp = pd.read_csv('Datasets/employment.csv')\n",
    "emp.head()"
   ]
  },
  {
   "cell_type": "code",
   "execution_count": 21,
   "metadata": {
    "colab": {
     "base_uri": "https://localhost:8080/"
    },
    "id": "ovzcgpgaIkE-",
    "outputId": "67037176-f226-4919-848e-bb4c92b294ac"
   },
   "outputs": [
    {
     "data": {
      "text/plain": [
       "(2099, 33)"
      ]
     },
     "execution_count": 21,
     "metadata": {},
     "output_type": "execute_result"
    }
   ],
   "source": [
    "# Total no.of columns and rows\n",
    "emp.shape"
   ]
  },
  {
   "cell_type": "code",
   "execution_count": 22,
   "metadata": {
    "colab": {
     "base_uri": "https://localhost:8080/"
    },
    "id": "7jvUkyMRVXda",
    "outputId": "cb4eb830-758c-4f3b-81e1-77fedeea9fb6"
   },
   "outputs": [
    {
     "data": {
      "text/plain": [
       "Index(['employmentId', 'uploadResume', 'currentCompany', 'currentDesignation',\n",
       "       'annualSalary', 'industry', 'functionalArea', 'role', 'currentLocation',\n",
       "       'orgId', 'noticePeriod', 'skills', 'totalWorkExp', 'minExp', 'maxExp',\n",
       "       'applicantId', 'preferedLocation', 'holdingAnyOffer', 'expectedCtc',\n",
       "       'feedback', 'comment', 'isCurrent', 'companyEmail', 'packageOffered',\n",
       "       'lastWorkingDay', 'remarks', 'previousCompany', 'offerLetter',\n",
       "       'experienceLetter', 'relieveingLetter', 'isRecent', 'paySlips',\n",
       "       'createdOn'],\n",
       "      dtype='object')"
      ]
     },
     "execution_count": 22,
     "metadata": {},
     "output_type": "execute_result"
    }
   ],
   "source": [
    "# List of columns\n",
    "emp.columns"
   ]
  },
  {
   "cell_type": "code",
   "execution_count": 23,
   "metadata": {
    "colab": {
     "base_uri": "https://localhost:8080/"
    },
    "id": "OqB577gIVYDw",
    "outputId": "a7a0153e-bec6-4b50-de6c-4655d070345d"
   },
   "outputs": [
    {
     "data": {
      "text/plain": [
       "employmentId            int64\n",
       "uploadResume           object\n",
       "currentCompany         object\n",
       "currentDesignation     object\n",
       "annualSalary           object\n",
       "industry              float64\n",
       "functionalArea         object\n",
       "role                  float64\n",
       "currentLocation        object\n",
       "orgId                 float64\n",
       "noticePeriod           object\n",
       "skills                 object\n",
       "totalWorkExp          float64\n",
       "minExp                float64\n",
       "maxExp                float64\n",
       "applicantId            object\n",
       "preferedLocation       object\n",
       "holdingAnyOffer        object\n",
       "expectedCtc            object\n",
       "feedback               object\n",
       "comment                object\n",
       "isCurrent              object\n",
       "companyEmail           object\n",
       "packageOffered        float64\n",
       "lastWorkingDay         object\n",
       "remarks                object\n",
       "previousCompany       float64\n",
       "offerLetter           float64\n",
       "experienceLetter      float64\n",
       "relieveingLetter      float64\n",
       "isRecent              float64\n",
       "paySlips              float64\n",
       "createdOn              object\n",
       "dtype: object"
      ]
     },
     "execution_count": 23,
     "metadata": {},
     "output_type": "execute_result"
    }
   ],
   "source": [
    "# Check datatypes of all the columns\n",
    "emp.dtypes"
   ]
  },
  {
   "cell_type": "code",
   "execution_count": 24,
   "metadata": {
    "colab": {
     "base_uri": "https://localhost:8080/"
    },
    "id": "kMjXU_cgVX6r",
    "outputId": "601238ec-06fe-4769-c78e-46a5c2d7cb77"
   },
   "outputs": [
    {
     "name": "stdout",
     "output_type": "stream",
     "text": [
      "<class 'pandas.core.frame.DataFrame'>\n",
      "RangeIndex: 2099 entries, 0 to 2098\n",
      "Data columns (total 33 columns):\n",
      " #   Column              Non-Null Count  Dtype  \n",
      "---  ------              --------------  -----  \n",
      " 0   employmentId        2099 non-null   int64  \n",
      " 1   uploadResume        1600 non-null   object \n",
      " 2   currentCompany      2002 non-null   object \n",
      " 3   currentDesignation  2056 non-null   object \n",
      " 4   annualSalary        1994 non-null   object \n",
      " 5   industry            2004 non-null   float64\n",
      " 6   functionalArea      1986 non-null   object \n",
      " 7   role                0 non-null      float64\n",
      " 8   currentLocation     1999 non-null   object \n",
      " 9   orgId               1953 non-null   float64\n",
      " 10  noticePeriod        1919 non-null   object \n",
      " 11  skills              2099 non-null   object \n",
      " 12  totalWorkExp        2002 non-null   float64\n",
      " 13  minExp              0 non-null      float64\n",
      " 14  maxExp              0 non-null      float64\n",
      " 15  applicantId         2099 non-null   object \n",
      " 16  preferedLocation    1536 non-null   object \n",
      " 17  holdingAnyOffer     1514 non-null   object \n",
      " 18  expectedCtc         1539 non-null   object \n",
      " 19  feedback            21 non-null     object \n",
      " 20  comment             159 non-null    object \n",
      " 21  isCurrent           1193 non-null   object \n",
      " 22  companyEmail        694 non-null    object \n",
      " 23  packageOffered      15 non-null     float64\n",
      " 24  lastWorkingDay      21 non-null     object \n",
      " 25  remarks             59 non-null     object \n",
      " 26  previousCompany     0 non-null      float64\n",
      " 27  offerLetter         0 non-null      float64\n",
      " 28  experienceLetter    0 non-null      float64\n",
      " 29  relieveingLetter    0 non-null      float64\n",
      " 30  isRecent            0 non-null      float64\n",
      " 31  paySlips            0 non-null      float64\n",
      " 32  createdOn           2099 non-null   object \n",
      "dtypes: float64(13), int64(1), object(19)\n",
      "memory usage: 541.3+ KB\n"
     ]
    }
   ],
   "source": [
    "# Information of the dataset\n",
    "emp.info()"
   ]
  },
  {
   "cell_type": "code",
   "execution_count": 25,
   "metadata": {
    "colab": {
     "base_uri": "https://localhost:8080/",
     "height": 320
    },
    "id": "4eq3FkdWVX9l",
    "outputId": "70f99d91-bdf0-4448-933f-ac58fb25c113"
   },
   "outputs": [
    {
     "data": {
      "text/html": [
       "<div>\n",
       "<style scoped>\n",
       "    .dataframe tbody tr th:only-of-type {\n",
       "        vertical-align: middle;\n",
       "    }\n",
       "\n",
       "    .dataframe tbody tr th {\n",
       "        vertical-align: top;\n",
       "    }\n",
       "\n",
       "    .dataframe thead th {\n",
       "        text-align: right;\n",
       "    }\n",
       "</style>\n",
       "<table border=\"1\" class=\"dataframe\">\n",
       "  <thead>\n",
       "    <tr style=\"text-align: right;\">\n",
       "      <th></th>\n",
       "      <th>employmentId</th>\n",
       "      <th>industry</th>\n",
       "      <th>role</th>\n",
       "      <th>orgId</th>\n",
       "      <th>totalWorkExp</th>\n",
       "      <th>minExp</th>\n",
       "      <th>maxExp</th>\n",
       "      <th>packageOffered</th>\n",
       "      <th>previousCompany</th>\n",
       "      <th>offerLetter</th>\n",
       "      <th>experienceLetter</th>\n",
       "      <th>relieveingLetter</th>\n",
       "      <th>isRecent</th>\n",
       "      <th>paySlips</th>\n",
       "    </tr>\n",
       "  </thead>\n",
       "  <tbody>\n",
       "    <tr>\n",
       "      <th>count</th>\n",
       "      <td>2099.000000</td>\n",
       "      <td>2004.000000</td>\n",
       "      <td>0.0</td>\n",
       "      <td>1953.0</td>\n",
       "      <td>2002.000000</td>\n",
       "      <td>0.0</td>\n",
       "      <td>0.0</td>\n",
       "      <td>1.500000e+01</td>\n",
       "      <td>0.0</td>\n",
       "      <td>0.0</td>\n",
       "      <td>0.0</td>\n",
       "      <td>0.0</td>\n",
       "      <td>0.0</td>\n",
       "      <td>0.0</td>\n",
       "    </tr>\n",
       "    <tr>\n",
       "      <th>mean</th>\n",
       "      <td>1200.003811</td>\n",
       "      <td>2.056886</td>\n",
       "      <td>NaN</td>\n",
       "      <td>1.0</td>\n",
       "      <td>11.116773</td>\n",
       "      <td>NaN</td>\n",
       "      <td>NaN</td>\n",
       "      <td>5.600082e+05</td>\n",
       "      <td>NaN</td>\n",
       "      <td>NaN</td>\n",
       "      <td>NaN</td>\n",
       "      <td>NaN</td>\n",
       "      <td>NaN</td>\n",
       "      <td>NaN</td>\n",
       "    </tr>\n",
       "    <tr>\n",
       "      <th>std</th>\n",
       "      <td>627.419107</td>\n",
       "      <td>4.399741</td>\n",
       "      <td>NaN</td>\n",
       "      <td>0.0</td>\n",
       "      <td>104.766500</td>\n",
       "      <td>NaN</td>\n",
       "      <td>NaN</td>\n",
       "      <td>6.378347e+05</td>\n",
       "      <td>NaN</td>\n",
       "      <td>NaN</td>\n",
       "      <td>NaN</td>\n",
       "      <td>NaN</td>\n",
       "      <td>NaN</td>\n",
       "      <td>NaN</td>\n",
       "    </tr>\n",
       "    <tr>\n",
       "      <th>min</th>\n",
       "      <td>48.000000</td>\n",
       "      <td>0.000000</td>\n",
       "      <td>NaN</td>\n",
       "      <td>1.0</td>\n",
       "      <td>0.000000</td>\n",
       "      <td>NaN</td>\n",
       "      <td>NaN</td>\n",
       "      <td>1.200000e+01</td>\n",
       "      <td>NaN</td>\n",
       "      <td>NaN</td>\n",
       "      <td>NaN</td>\n",
       "      <td>NaN</td>\n",
       "      <td>NaN</td>\n",
       "      <td>NaN</td>\n",
       "    </tr>\n",
       "    <tr>\n",
       "      <th>25%</th>\n",
       "      <td>679.500000</td>\n",
       "      <td>1.000000</td>\n",
       "      <td>NaN</td>\n",
       "      <td>1.0</td>\n",
       "      <td>2.000000</td>\n",
       "      <td>NaN</td>\n",
       "      <td>NaN</td>\n",
       "      <td>1.700000e+01</td>\n",
       "      <td>NaN</td>\n",
       "      <td>NaN</td>\n",
       "      <td>NaN</td>\n",
       "      <td>NaN</td>\n",
       "      <td>NaN</td>\n",
       "      <td>NaN</td>\n",
       "    </tr>\n",
       "    <tr>\n",
       "      <th>50%</th>\n",
       "      <td>1212.000000</td>\n",
       "      <td>1.000000</td>\n",
       "      <td>NaN</td>\n",
       "      <td>1.0</td>\n",
       "      <td>3.400000</td>\n",
       "      <td>NaN</td>\n",
       "      <td>NaN</td>\n",
       "      <td>4.800000e+05</td>\n",
       "      <td>NaN</td>\n",
       "      <td>NaN</td>\n",
       "      <td>NaN</td>\n",
       "      <td>NaN</td>\n",
       "      <td>NaN</td>\n",
       "      <td>NaN</td>\n",
       "    </tr>\n",
       "    <tr>\n",
       "      <th>75%</th>\n",
       "      <td>1737.500000</td>\n",
       "      <td>1.000000</td>\n",
       "      <td>NaN</td>\n",
       "      <td>1.0</td>\n",
       "      <td>6.000000</td>\n",
       "      <td>NaN</td>\n",
       "      <td>NaN</td>\n",
       "      <td>9.250000e+05</td>\n",
       "      <td>NaN</td>\n",
       "      <td>NaN</td>\n",
       "      <td>NaN</td>\n",
       "      <td>NaN</td>\n",
       "      <td>NaN</td>\n",
       "      <td>NaN</td>\n",
       "    </tr>\n",
       "    <tr>\n",
       "      <th>max</th>\n",
       "      <td>2276.000000</td>\n",
       "      <td>165.000000</td>\n",
       "      <td>NaN</td>\n",
       "      <td>1.0</td>\n",
       "      <td>3278.000000</td>\n",
       "      <td>NaN</td>\n",
       "      <td>NaN</td>\n",
       "      <td>1.900000e+06</td>\n",
       "      <td>NaN</td>\n",
       "      <td>NaN</td>\n",
       "      <td>NaN</td>\n",
       "      <td>NaN</td>\n",
       "      <td>NaN</td>\n",
       "      <td>NaN</td>\n",
       "    </tr>\n",
       "  </tbody>\n",
       "</table>\n",
       "</div>"
      ],
      "text/plain": [
       "       employmentId     industry  role   orgId  totalWorkExp  minExp  maxExp  \\\n",
       "count   2099.000000  2004.000000   0.0  1953.0   2002.000000     0.0     0.0   \n",
       "mean    1200.003811     2.056886   NaN     1.0     11.116773     NaN     NaN   \n",
       "std      627.419107     4.399741   NaN     0.0    104.766500     NaN     NaN   \n",
       "min       48.000000     0.000000   NaN     1.0      0.000000     NaN     NaN   \n",
       "25%      679.500000     1.000000   NaN     1.0      2.000000     NaN     NaN   \n",
       "50%     1212.000000     1.000000   NaN     1.0      3.400000     NaN     NaN   \n",
       "75%     1737.500000     1.000000   NaN     1.0      6.000000     NaN     NaN   \n",
       "max     2276.000000   165.000000   NaN     1.0   3278.000000     NaN     NaN   \n",
       "\n",
       "       packageOffered  previousCompany  offerLetter  experienceLetter  \\\n",
       "count    1.500000e+01              0.0          0.0               0.0   \n",
       "mean     5.600082e+05              NaN          NaN               NaN   \n",
       "std      6.378347e+05              NaN          NaN               NaN   \n",
       "min      1.200000e+01              NaN          NaN               NaN   \n",
       "25%      1.700000e+01              NaN          NaN               NaN   \n",
       "50%      4.800000e+05              NaN          NaN               NaN   \n",
       "75%      9.250000e+05              NaN          NaN               NaN   \n",
       "max      1.900000e+06              NaN          NaN               NaN   \n",
       "\n",
       "       relieveingLetter  isRecent  paySlips  \n",
       "count               0.0       0.0       0.0  \n",
       "mean                NaN       NaN       NaN  \n",
       "std                 NaN       NaN       NaN  \n",
       "min                 NaN       NaN       NaN  \n",
       "25%                 NaN       NaN       NaN  \n",
       "50%                 NaN       NaN       NaN  \n",
       "75%                 NaN       NaN       NaN  \n",
       "max                 NaN       NaN       NaN  "
      ]
     },
     "execution_count": 25,
     "metadata": {},
     "output_type": "execute_result"
    }
   ],
   "source": [
    "# Statistical info of the dataset\n",
    "emp.describe()"
   ]
  },
  {
   "cell_type": "code",
   "execution_count": 26,
   "metadata": {
    "colab": {
     "base_uri": "https://localhost:8080/"
    },
    "id": "XigO06-fVYAt",
    "outputId": "677c6e3b-1f78-4ab9-b5b6-5a23dc7917e4"
   },
   "outputs": [
    {
     "data": {
      "text/plain": [
       "employmentId             0\n",
       "uploadResume           499\n",
       "currentCompany          97\n",
       "currentDesignation      43\n",
       "annualSalary           105\n",
       "industry                95\n",
       "functionalArea         113\n",
       "role                  2099\n",
       "currentLocation        100\n",
       "orgId                  146\n",
       "noticePeriod           180\n",
       "skills                   0\n",
       "totalWorkExp            97\n",
       "minExp                2099\n",
       "maxExp                2099\n",
       "applicantId              0\n",
       "preferedLocation       563\n",
       "holdingAnyOffer        585\n",
       "expectedCtc            560\n",
       "feedback              2078\n",
       "comment               1940\n",
       "isCurrent              906\n",
       "companyEmail          1405\n",
       "packageOffered        2084\n",
       "lastWorkingDay        2078\n",
       "remarks               2040\n",
       "previousCompany       2099\n",
       "offerLetter           2099\n",
       "experienceLetter      2099\n",
       "relieveingLetter      2099\n",
       "isRecent              2099\n",
       "paySlips              2099\n",
       "createdOn                0\n",
       "dtype: int64"
      ]
     },
     "execution_count": 26,
     "metadata": {},
     "output_type": "execute_result"
    }
   ],
   "source": [
    "# Check for missing values\n",
    "emp.isnull().sum()"
   ]
  },
  {
   "cell_type": "code",
   "execution_count": 27,
   "metadata": {
    "id": "ZbaGYiXJVYGo"
   },
   "outputs": [],
   "source": [
    "emp = emp.drop(['currentCompany', 'currentDesignation', 'currentDesignation', 'annualSalary', 'functionalArea', 'role', 'currentLocation', 'orgId', 'noticePeriod', 'totalWorkExp', 'minExp', 'maxExp', 'preferedLocation', 'holdingAnyOffer', 'expectedCtc', 'feedback', 'comment', 'isCurrent', 'companyEmail', 'packageOffered', 'lastWorkingDay', 'remarks', 'previousCompany', 'offerLetter', 'experienceLetter', 'relieveingLetter', 'isRecent', 'paySlips', 'createdOn'], axis=1)"
   ]
  },
  {
   "cell_type": "code",
   "execution_count": 28,
   "metadata": {
    "colab": {
     "base_uri": "https://localhost:8080/"
    },
    "id": "OnMKQI0SVYJh",
    "outputId": "0e3c440c-593c-4834-c796-330469488d70"
   },
   "outputs": [
    {
     "data": {
      "text/plain": [
       "Index(['employmentId', 'uploadResume', 'industry', 'skills', 'applicantId'], dtype='object')"
      ]
     },
     "execution_count": 28,
     "metadata": {},
     "output_type": "execute_result"
    }
   ],
   "source": [
    "emp.columns"
   ]
  },
  {
   "cell_type": "code",
   "execution_count": 29,
   "metadata": {
    "colab": {
     "base_uri": "https://localhost:8080/",
     "height": 521
    },
    "id": "zgLZVyM8O8Vj",
    "outputId": "bea35892-56ed-4782-c665-f55749151e9b"
   },
   "outputs": [
    {
     "data": {
      "text/html": [
       "<div>\n",
       "<style scoped>\n",
       "    .dataframe tbody tr th:only-of-type {\n",
       "        vertical-align: middle;\n",
       "    }\n",
       "\n",
       "    .dataframe tbody tr th {\n",
       "        vertical-align: top;\n",
       "    }\n",
       "\n",
       "    .dataframe thead th {\n",
       "        text-align: right;\n",
       "    }\n",
       "</style>\n",
       "<table border=\"1\" class=\"dataframe\">\n",
       "  <thead>\n",
       "    <tr style=\"text-align: right;\">\n",
       "      <th></th>\n",
       "      <th>jobTitle</th>\n",
       "      <th>position</th>\n",
       "      <th>minBudget</th>\n",
       "      <th>maxBudget</th>\n",
       "      <th>travelReq</th>\n",
       "      <th>location</th>\n",
       "      <th>description</th>\n",
       "      <th>attachment</th>\n",
       "      <th>orgId</th>\n",
       "      <th>jobType</th>\n",
       "      <th>skills</th>\n",
       "      <th>recruiter</th>\n",
       "      <th>client</th>\n",
       "      <th>minExp</th>\n",
       "      <th>maxExp</th>\n",
       "      <th>noticePeriod</th>\n",
       "      <th>status</th>\n",
       "      <th>jobId</th>\n",
       "      <th>createDate</th>\n",
       "      <th>vacancies</th>\n",
       "      <th>priority</th>\n",
       "      <th>priceType</th>\n",
       "      <th>workType</th>\n",
       "      <th>comment</th>\n",
       "      <th>subvendorId</th>\n",
       "      <th>Questionnaires</th>\n",
       "      <th>country</th>\n",
       "      <th>department</th>\n",
       "      <th>eligibility</th>\n",
       "      <th>responsibilities</th>\n",
       "    </tr>\n",
       "  </thead>\n",
       "  <tbody>\n",
       "    <tr>\n",
       "      <th>0</th>\n",
       "      <td>Plant Maintenance Engineer</td>\n",
       "      <td>Plant Maintenance Engineer</td>\n",
       "      <td>300000.0</td>\n",
       "      <td>600000.0</td>\n",
       "      <td>True</td>\n",
       "      <td>{Hyderabad}</td>\n",
       "      <td>Read and understand the data from P&amp;ID, PEFS, ...</td>\n",
       "      <td>NaN</td>\n",
       "      <td>1</td>\n",
       "      <td>Permanent</td>\n",
       "      <td>{\"Plant Maintenance\"}</td>\n",
       "      <td>DB413862</td>\n",
       "      <td>CIHI7757</td>\n",
       "      <td>2.00</td>\n",
       "      <td>5.0</td>\n",
       "      <td>15-30 days</td>\n",
       "      <td>Active</td>\n",
       "      <td>JDA&amp;5399</td>\n",
       "      <td>2023-01-31 11:09:26.36189</td>\n",
       "      <td>2.0</td>\n",
       "      <td>High</td>\n",
       "      <td>INR</td>\n",
       "      <td>Work from Office</td>\n",
       "      <td>NaN</td>\n",
       "      <td>NaN</td>\n",
       "      <td>NaN</td>\n",
       "      <td>NaN</td>\n",
       "      <td>NaN</td>\n",
       "      <td>NaN</td>\n",
       "      <td>NaN</td>\n",
       "    </tr>\n",
       "    <tr>\n",
       "      <th>1</th>\n",
       "      <td>Adobe Analytics developer</td>\n",
       "      <td>AdobeAnalyticsdeveloper</td>\n",
       "      <td>14.0</td>\n",
       "      <td>15.0</td>\n",
       "      <td>True</td>\n",
       "      <td>{ChennaiBangaloreHyderabad}</td>\n",
       "      <td>An understanding of the marketing technologies...</td>\n",
       "      <td>NaN</td>\n",
       "      <td>1</td>\n",
       "      <td>Permanent</td>\n",
       "      <td>{\"Adobe anaytics\",Agile,tableau,Marketo,\"power...</td>\n",
       "      <td>Venkata Sai Rohith</td>\n",
       "      <td>CIHW9344</td>\n",
       "      <td>3.00</td>\n",
       "      <td>4.0</td>\n",
       "      <td>15-30 days</td>\n",
       "      <td>Active</td>\n",
       "      <td>JDAA1476</td>\n",
       "      <td>2022-03-30 11:20:03.031659</td>\n",
       "      <td>1.0</td>\n",
       "      <td>High</td>\n",
       "      <td>NaN</td>\n",
       "      <td>NaN</td>\n",
       "      <td>NaN</td>\n",
       "      <td>NaN</td>\n",
       "      <td>NaN</td>\n",
       "      <td>NaN</td>\n",
       "      <td>NaN</td>\n",
       "      <td>NaN</td>\n",
       "      <td>NaN</td>\n",
       "    </tr>\n",
       "    <tr>\n",
       "      <th>2</th>\n",
       "      <td>AEM architect</td>\n",
       "      <td>Aemarchitect</td>\n",
       "      <td>12.0</td>\n",
       "      <td>15.0</td>\n",
       "      <td>True</td>\n",
       "      <td>{bangalore}</td>\n",
       "      <td>To analyze, understand the client’s business u...</td>\n",
       "      <td>NaN</td>\n",
       "      <td>1</td>\n",
       "      <td>Permanent</td>\n",
       "      <td>{JIRA,Confluence,AEM}</td>\n",
       "      <td>Venkata Sai Rohith</td>\n",
       "      <td>CIHW9344</td>\n",
       "      <td>4.00</td>\n",
       "      <td>6.0</td>\n",
       "      <td>30-45 days</td>\n",
       "      <td>Active</td>\n",
       "      <td>JDAA5139</td>\n",
       "      <td>2022-03-07 13:21:41.393509</td>\n",
       "      <td>NaN</td>\n",
       "      <td>Low</td>\n",
       "      <td>NaN</td>\n",
       "      <td>NaN</td>\n",
       "      <td>NaN</td>\n",
       "      <td>NaN</td>\n",
       "      <td>NaN</td>\n",
       "      <td>NaN</td>\n",
       "      <td>NaN</td>\n",
       "      <td>NaN</td>\n",
       "      <td>NaN</td>\n",
       "    </tr>\n",
       "    <tr>\n",
       "      <th>3</th>\n",
       "      <td>Azure Administrator</td>\n",
       "      <td>Azure Administrator</td>\n",
       "      <td>14.0</td>\n",
       "      <td>16.0</td>\n",
       "      <td>False</td>\n",
       "      <td>{\"Pan India\"}</td>\n",
       "      <td>1.\\tArchitecture and Design for large scale Az...</td>\n",
       "      <td>NaN</td>\n",
       "      <td>1</td>\n",
       "      <td>Permanent</td>\n",
       "      <td>{\"Azure Administrator \"}</td>\n",
       "      <td>PC138515</td>\n",
       "      <td>CIQC2196</td>\n",
       "      <td>6.00</td>\n",
       "      <td>8.0</td>\n",
       "      <td>45-60 days</td>\n",
       "      <td>Active</td>\n",
       "      <td>JDAA6310</td>\n",
       "      <td>2023-05-04 12:23:28.16582</td>\n",
       "      <td>1.0</td>\n",
       "      <td>High</td>\n",
       "      <td>INR</td>\n",
       "      <td>Work from Office</td>\n",
       "      <td>NaN</td>\n",
       "      <td>NaN</td>\n",
       "      <td>NaN</td>\n",
       "      <td>NaN</td>\n",
       "      <td>NaN</td>\n",
       "      <td>NaN</td>\n",
       "      <td>NaN</td>\n",
       "    </tr>\n",
       "    <tr>\n",
       "      <th>4</th>\n",
       "      <td>AEM architect</td>\n",
       "      <td>Aemarchitect</td>\n",
       "      <td>30.0</td>\n",
       "      <td>32.0</td>\n",
       "      <td>True</td>\n",
       "      <td>{bangalore}</td>\n",
       "      <td>Should have experience in java, OSGI, Componen...</td>\n",
       "      <td>https://storage.googleapis.com/hrm-musquare/jo...</td>\n",
       "      <td>1</td>\n",
       "      <td>Permanent</td>\n",
       "      <td>{sling,jackrabbit,OSGI,felix,JCR}</td>\n",
       "      <td>Venkata Sai Rohith</td>\n",
       "      <td>CIHW9344</td>\n",
       "      <td>9.96</td>\n",
       "      <td>15.0</td>\n",
       "      <td>30-45 days</td>\n",
       "      <td>Active</td>\n",
       "      <td>JDAA7883</td>\n",
       "      <td>2022-03-07 13:35:36.779486</td>\n",
       "      <td>NaN</td>\n",
       "      <td>NaN</td>\n",
       "      <td>NaN</td>\n",
       "      <td>NaN</td>\n",
       "      <td>NaN</td>\n",
       "      <td>NaN</td>\n",
       "      <td>NaN</td>\n",
       "      <td>NaN</td>\n",
       "      <td>NaN</td>\n",
       "      <td>NaN</td>\n",
       "      <td>NaN</td>\n",
       "    </tr>\n",
       "  </tbody>\n",
       "</table>\n",
       "</div>"
      ],
      "text/plain": [
       "                     jobTitle                    position  minBudget  \\\n",
       "0  Plant Maintenance Engineer  Plant Maintenance Engineer   300000.0   \n",
       "1   Adobe Analytics developer     AdobeAnalyticsdeveloper       14.0   \n",
       "2               AEM architect                Aemarchitect       12.0   \n",
       "3        Azure Administrator         Azure Administrator        14.0   \n",
       "4               AEM architect                Aemarchitect       30.0   \n",
       "\n",
       "   maxBudget  travelReq                     location  \\\n",
       "0   600000.0       True                  {Hyderabad}   \n",
       "1       15.0       True  {ChennaiBangaloreHyderabad}   \n",
       "2       15.0       True                  {bangalore}   \n",
       "3       16.0      False                {\"Pan India\"}   \n",
       "4       32.0       True                  {bangalore}   \n",
       "\n",
       "                                         description  \\\n",
       "0  Read and understand the data from P&ID, PEFS, ...   \n",
       "1  An understanding of the marketing technologies...   \n",
       "2  To analyze, understand the client’s business u...   \n",
       "3  1.\\tArchitecture and Design for large scale Az...   \n",
       "4  Should have experience in java, OSGI, Componen...   \n",
       "\n",
       "                                          attachment  orgId    jobType  \\\n",
       "0                                                NaN      1  Permanent   \n",
       "1                                                NaN      1  Permanent   \n",
       "2                                                NaN      1  Permanent   \n",
       "3                                                NaN      1  Permanent   \n",
       "4  https://storage.googleapis.com/hrm-musquare/jo...      1  Permanent   \n",
       "\n",
       "                                              skills           recruiter  \\\n",
       "0                              {\"Plant Maintenance\"}            DB413862   \n",
       "1  {\"Adobe anaytics\",Agile,tableau,Marketo,\"power...  Venkata Sai Rohith   \n",
       "2                              {JIRA,Confluence,AEM}  Venkata Sai Rohith   \n",
       "3                           {\"Azure Administrator \"}            PC138515   \n",
       "4                  {sling,jackrabbit,OSGI,felix,JCR}  Venkata Sai Rohith   \n",
       "\n",
       "     client  minExp  maxExp noticePeriod  status     jobId  \\\n",
       "0  CIHI7757    2.00     5.0   15-30 days  Active  JDA&5399   \n",
       "1  CIHW9344    3.00     4.0   15-30 days  Active  JDAA1476   \n",
       "2  CIHW9344    4.00     6.0   30-45 days  Active  JDAA5139   \n",
       "3  CIQC2196    6.00     8.0   45-60 days  Active  JDAA6310   \n",
       "4  CIHW9344    9.96    15.0   30-45 days  Active  JDAA7883   \n",
       "\n",
       "                   createDate  vacancies priority priceType          workType  \\\n",
       "0   2023-01-31 11:09:26.36189        2.0     High       INR  Work from Office   \n",
       "1  2022-03-30 11:20:03.031659        1.0     High       NaN               NaN   \n",
       "2  2022-03-07 13:21:41.393509        NaN      Low       NaN               NaN   \n",
       "3   2023-05-04 12:23:28.16582        1.0     High       INR  Work from Office   \n",
       "4  2022-03-07 13:35:36.779486        NaN      NaN       NaN               NaN   \n",
       "\n",
       "  comment  subvendorId  Questionnaires country  department  eligibility  \\\n",
       "0     NaN          NaN             NaN     NaN         NaN          NaN   \n",
       "1     NaN          NaN             NaN     NaN         NaN          NaN   \n",
       "2     NaN          NaN             NaN     NaN         NaN          NaN   \n",
       "3     NaN          NaN             NaN     NaN         NaN          NaN   \n",
       "4     NaN          NaN             NaN     NaN         NaN          NaN   \n",
       "\n",
       "   responsibilities  \n",
       "0               NaN  \n",
       "1               NaN  \n",
       "2               NaN  \n",
       "3               NaN  \n",
       "4               NaN  "
      ]
     },
     "execution_count": 29,
     "metadata": {},
     "output_type": "execute_result"
    }
   ],
   "source": [
    "# 3. Jobs dataset\n",
    "jobs = pd.read_csv('Datasets/jobs.csv')\n",
    "jobs.head()"
   ]
  },
  {
   "cell_type": "code",
   "execution_count": 30,
   "metadata": {
    "colab": {
     "base_uri": "https://localhost:8080/"
    },
    "id": "EBp8FlPlIpfu",
    "outputId": "e9db97d4-1ef8-403b-ad18-f012e30e30cd"
   },
   "outputs": [
    {
     "data": {
      "text/plain": [
       "(307, 30)"
      ]
     },
     "execution_count": 30,
     "metadata": {},
     "output_type": "execute_result"
    }
   ],
   "source": [
    "# Total no.of columns and rows\n",
    "jobs.shape"
   ]
  },
  {
   "cell_type": "code",
   "execution_count": 31,
   "metadata": {
    "colab": {
     "base_uri": "https://localhost:8080/"
    },
    "id": "b6VxQKhuPUy7",
    "outputId": "4b42ce39-c645-475d-c682-978327e30c16"
   },
   "outputs": [
    {
     "data": {
      "text/plain": [
       "Index(['jobTitle', 'position', 'minBudget', 'maxBudget', 'travelReq',\n",
       "       'location', 'description', 'attachment', 'orgId', 'jobType', 'skills',\n",
       "       'recruiter', 'client', 'minExp', 'maxExp', 'noticePeriod', 'status',\n",
       "       'jobId', 'createDate', 'vacancies', 'priority', 'priceType', 'workType',\n",
       "       'comment', 'subvendorId', 'Questionnaires', 'country', 'department',\n",
       "       'eligibility', 'responsibilities'],\n",
       "      dtype='object')"
      ]
     },
     "execution_count": 31,
     "metadata": {},
     "output_type": "execute_result"
    }
   ],
   "source": [
    "# List of columns\n",
    "jobs.columns"
   ]
  },
  {
   "cell_type": "code",
   "execution_count": 32,
   "metadata": {
    "colab": {
     "base_uri": "https://localhost:8080/"
    },
    "id": "UOicPDtSVb3l",
    "outputId": "1d935fc7-2cd8-4b9a-b8ca-7986c8158abc"
   },
   "outputs": [
    {
     "data": {
      "text/plain": [
       "jobTitle             object\n",
       "position             object\n",
       "minBudget           float64\n",
       "maxBudget           float64\n",
       "travelReq              bool\n",
       "location             object\n",
       "description          object\n",
       "attachment           object\n",
       "orgId                 int64\n",
       "jobType              object\n",
       "skills               object\n",
       "recruiter            object\n",
       "client               object\n",
       "minExp              float64\n",
       "maxExp              float64\n",
       "noticePeriod         object\n",
       "status               object\n",
       "jobId                object\n",
       "createDate           object\n",
       "vacancies           float64\n",
       "priority             object\n",
       "priceType            object\n",
       "workType             object\n",
       "comment              object\n",
       "subvendorId         float64\n",
       "Questionnaires      float64\n",
       "country              object\n",
       "department          float64\n",
       "eligibility         float64\n",
       "responsibilities    float64\n",
       "dtype: object"
      ]
     },
     "execution_count": 32,
     "metadata": {},
     "output_type": "execute_result"
    }
   ],
   "source": [
    "# Check datatypes of all the columns\n",
    "jobs.dtypes"
   ]
  },
  {
   "cell_type": "code",
   "execution_count": 33,
   "metadata": {
    "colab": {
     "base_uri": "https://localhost:8080/"
    },
    "id": "YJz62QxlWd1Q",
    "outputId": "da8a7089-f953-41f2-da28-6cfb81727f6a"
   },
   "outputs": [
    {
     "name": "stdout",
     "output_type": "stream",
     "text": [
      "<class 'pandas.core.frame.DataFrame'>\n",
      "RangeIndex: 307 entries, 0 to 306\n",
      "Data columns (total 30 columns):\n",
      " #   Column            Non-Null Count  Dtype  \n",
      "---  ------            --------------  -----  \n",
      " 0   jobTitle          307 non-null    object \n",
      " 1   position          307 non-null    object \n",
      " 2   minBudget         306 non-null    float64\n",
      " 3   maxBudget         306 non-null    float64\n",
      " 4   travelReq         307 non-null    bool   \n",
      " 5   location          307 non-null    object \n",
      " 6   description       307 non-null    object \n",
      " 7   attachment        68 non-null     object \n",
      " 8   orgId             307 non-null    int64  \n",
      " 9   jobType           307 non-null    object \n",
      " 10  skills            307 non-null    object \n",
      " 11  recruiter         307 non-null    object \n",
      " 12  client            307 non-null    object \n",
      " 13  minExp            307 non-null    float64\n",
      " 14  maxExp            307 non-null    float64\n",
      " 15  noticePeriod      307 non-null    object \n",
      " 16  status            307 non-null    object \n",
      " 17  jobId             307 non-null    object \n",
      " 18  createDate        307 non-null    object \n",
      " 19  vacancies         270 non-null    float64\n",
      " 20  priority          262 non-null    object \n",
      " 21  priceType         257 non-null    object \n",
      " 22  workType          259 non-null    object \n",
      " 23  comment           5 non-null      object \n",
      " 24  subvendorId       0 non-null      float64\n",
      " 25  Questionnaires    0 non-null      float64\n",
      " 26  country           15 non-null     object \n",
      " 27  department        0 non-null      float64\n",
      " 28  eligibility       0 non-null      float64\n",
      " 29  responsibilities  0 non-null      float64\n",
      "dtypes: bool(1), float64(10), int64(1), object(18)\n",
      "memory usage: 70.0+ KB\n"
     ]
    }
   ],
   "source": [
    "# Information of the dataset\n",
    "jobs.info()"
   ]
  },
  {
   "cell_type": "code",
   "execution_count": 34,
   "metadata": {
    "colab": {
     "base_uri": "https://localhost:8080/",
     "height": 320
    },
    "id": "FuQDw_OlWd7_",
    "outputId": "467a9425-752f-451c-c483-a74aa630b5de"
   },
   "outputs": [
    {
     "data": {
      "text/html": [
       "<div>\n",
       "<style scoped>\n",
       "    .dataframe tbody tr th:only-of-type {\n",
       "        vertical-align: middle;\n",
       "    }\n",
       "\n",
       "    .dataframe tbody tr th {\n",
       "        vertical-align: top;\n",
       "    }\n",
       "\n",
       "    .dataframe thead th {\n",
       "        text-align: right;\n",
       "    }\n",
       "</style>\n",
       "<table border=\"1\" class=\"dataframe\">\n",
       "  <thead>\n",
       "    <tr style=\"text-align: right;\">\n",
       "      <th></th>\n",
       "      <th>minBudget</th>\n",
       "      <th>maxBudget</th>\n",
       "      <th>orgId</th>\n",
       "      <th>minExp</th>\n",
       "      <th>maxExp</th>\n",
       "      <th>vacancies</th>\n",
       "      <th>subvendorId</th>\n",
       "      <th>Questionnaires</th>\n",
       "      <th>department</th>\n",
       "      <th>eligibility</th>\n",
       "      <th>responsibilities</th>\n",
       "    </tr>\n",
       "  </thead>\n",
       "  <tbody>\n",
       "    <tr>\n",
       "      <th>count</th>\n",
       "      <td>3.060000e+02</td>\n",
       "      <td>3.060000e+02</td>\n",
       "      <td>307.0</td>\n",
       "      <td>307.000000</td>\n",
       "      <td>307.000000</td>\n",
       "      <td>270.000000</td>\n",
       "      <td>0.0</td>\n",
       "      <td>0.0</td>\n",
       "      <td>0.0</td>\n",
       "      <td>0.0</td>\n",
       "      <td>0.0</td>\n",
       "    </tr>\n",
       "    <tr>\n",
       "      <th>mean</th>\n",
       "      <td>4.589160e+05</td>\n",
       "      <td>8.748758e+05</td>\n",
       "      <td>1.0</td>\n",
       "      <td>4.339707</td>\n",
       "      <td>7.091466</td>\n",
       "      <td>2.266667</td>\n",
       "      <td>NaN</td>\n",
       "      <td>NaN</td>\n",
       "      <td>NaN</td>\n",
       "      <td>NaN</td>\n",
       "      <td>NaN</td>\n",
       "    </tr>\n",
       "    <tr>\n",
       "      <th>std</th>\n",
       "      <td>1.532037e+06</td>\n",
       "      <td>2.216359e+06</td>\n",
       "      <td>0.0</td>\n",
       "      <td>6.940431</td>\n",
       "      <td>9.066452</td>\n",
       "      <td>3.757916</td>\n",
       "      <td>NaN</td>\n",
       "      <td>NaN</td>\n",
       "      <td>NaN</td>\n",
       "      <td>NaN</td>\n",
       "      <td>NaN</td>\n",
       "    </tr>\n",
       "    <tr>\n",
       "      <th>min</th>\n",
       "      <td>0.000000e+00</td>\n",
       "      <td>2.000000e+00</td>\n",
       "      <td>1.0</td>\n",
       "      <td>0.000000</td>\n",
       "      <td>0.000000</td>\n",
       "      <td>-1.000000</td>\n",
       "      <td>NaN</td>\n",
       "      <td>NaN</td>\n",
       "      <td>NaN</td>\n",
       "      <td>NaN</td>\n",
       "      <td>NaN</td>\n",
       "    </tr>\n",
       "    <tr>\n",
       "      <th>25%</th>\n",
       "      <td>6.000000e+00</td>\n",
       "      <td>1.500000e+01</td>\n",
       "      <td>1.0</td>\n",
       "      <td>2.000000</td>\n",
       "      <td>5.000000</td>\n",
       "      <td>1.000000</td>\n",
       "      <td>NaN</td>\n",
       "      <td>NaN</td>\n",
       "      <td>NaN</td>\n",
       "      <td>NaN</td>\n",
       "      <td>NaN</td>\n",
       "    </tr>\n",
       "    <tr>\n",
       "      <th>50%</th>\n",
       "      <td>2.450000e+01</td>\n",
       "      <td>2.750010e+05</td>\n",
       "      <td>1.0</td>\n",
       "      <td>4.000000</td>\n",
       "      <td>6.000000</td>\n",
       "      <td>1.000000</td>\n",
       "      <td>NaN</td>\n",
       "      <td>NaN</td>\n",
       "      <td>NaN</td>\n",
       "      <td>NaN</td>\n",
       "      <td>NaN</td>\n",
       "    </tr>\n",
       "    <tr>\n",
       "      <th>75%</th>\n",
       "      <td>6.000000e+05</td>\n",
       "      <td>1.200000e+06</td>\n",
       "      <td>1.0</td>\n",
       "      <td>5.000000</td>\n",
       "      <td>8.000000</td>\n",
       "      <td>2.000000</td>\n",
       "      <td>NaN</td>\n",
       "      <td>NaN</td>\n",
       "      <td>NaN</td>\n",
       "      <td>NaN</td>\n",
       "      <td>NaN</td>\n",
       "    </tr>\n",
       "    <tr>\n",
       "      <th>max</th>\n",
       "      <td>2.500000e+07</td>\n",
       "      <td>3.000000e+07</td>\n",
       "      <td>1.0</td>\n",
       "      <td>108.000000</td>\n",
       "      <td>144.000000</td>\n",
       "      <td>50.000000</td>\n",
       "      <td>NaN</td>\n",
       "      <td>NaN</td>\n",
       "      <td>NaN</td>\n",
       "      <td>NaN</td>\n",
       "      <td>NaN</td>\n",
       "    </tr>\n",
       "  </tbody>\n",
       "</table>\n",
       "</div>"
      ],
      "text/plain": [
       "          minBudget     maxBudget  orgId      minExp      maxExp   vacancies  \\\n",
       "count  3.060000e+02  3.060000e+02  307.0  307.000000  307.000000  270.000000   \n",
       "mean   4.589160e+05  8.748758e+05    1.0    4.339707    7.091466    2.266667   \n",
       "std    1.532037e+06  2.216359e+06    0.0    6.940431    9.066452    3.757916   \n",
       "min    0.000000e+00  2.000000e+00    1.0    0.000000    0.000000   -1.000000   \n",
       "25%    6.000000e+00  1.500000e+01    1.0    2.000000    5.000000    1.000000   \n",
       "50%    2.450000e+01  2.750010e+05    1.0    4.000000    6.000000    1.000000   \n",
       "75%    6.000000e+05  1.200000e+06    1.0    5.000000    8.000000    2.000000   \n",
       "max    2.500000e+07  3.000000e+07    1.0  108.000000  144.000000   50.000000   \n",
       "\n",
       "       subvendorId  Questionnaires  department  eligibility  responsibilities  \n",
       "count          0.0             0.0         0.0          0.0               0.0  \n",
       "mean           NaN             NaN         NaN          NaN               NaN  \n",
       "std            NaN             NaN         NaN          NaN               NaN  \n",
       "min            NaN             NaN         NaN          NaN               NaN  \n",
       "25%            NaN             NaN         NaN          NaN               NaN  \n",
       "50%            NaN             NaN         NaN          NaN               NaN  \n",
       "75%            NaN             NaN         NaN          NaN               NaN  \n",
       "max            NaN             NaN         NaN          NaN               NaN  "
      ]
     },
     "execution_count": 34,
     "metadata": {},
     "output_type": "execute_result"
    }
   ],
   "source": [
    "# Statistical info of the dataset\n",
    "jobs.describe()"
   ]
  },
  {
   "cell_type": "code",
   "execution_count": 35,
   "metadata": {
    "colab": {
     "base_uri": "https://localhost:8080/"
    },
    "id": "HWs9ViYgWd-4",
    "outputId": "59d13dc9-8bae-4da1-bd81-7dfd1c5fb274"
   },
   "outputs": [
    {
     "data": {
      "text/plain": [
       "jobTitle              0\n",
       "position              0\n",
       "minBudget             1\n",
       "maxBudget             1\n",
       "travelReq             0\n",
       "location              0\n",
       "description           0\n",
       "attachment          239\n",
       "orgId                 0\n",
       "jobType               0\n",
       "skills                0\n",
       "recruiter             0\n",
       "client                0\n",
       "minExp                0\n",
       "maxExp                0\n",
       "noticePeriod          0\n",
       "status                0\n",
       "jobId                 0\n",
       "createDate            0\n",
       "vacancies            37\n",
       "priority             45\n",
       "priceType            50\n",
       "workType             48\n",
       "comment             302\n",
       "subvendorId         307\n",
       "Questionnaires      307\n",
       "country             292\n",
       "department          307\n",
       "eligibility         307\n",
       "responsibilities    307\n",
       "dtype: int64"
      ]
     },
     "execution_count": 35,
     "metadata": {},
     "output_type": "execute_result"
    }
   ],
   "source": [
    "# Check for missing values\n",
    "jobs.isnull().sum()"
   ]
  },
  {
   "cell_type": "code",
   "execution_count": 36,
   "metadata": {
    "id": "v9uOD52SWeB2"
   },
   "outputs": [],
   "source": [
    "jobs = jobs.drop(['position', 'travelReq', 'attachment', 'orgId', 'recruiter', 'client', 'priority', 'priceType', 'workType', 'comment', 'subvendorId', 'Questionnaires', 'country', 'department', 'eligibility', 'responsibilities', 'minBudget', 'maxBudget', 'minExp', 'maxExp', 'noticePeriod', 'status', 'createDate', 'vacancies'], axis=1)"
   ]
  },
  {
   "cell_type": "code",
   "execution_count": 37,
   "metadata": {
    "colab": {
     "base_uri": "https://localhost:8080/"
    },
    "id": "0dzbHZ3S9EYd",
    "outputId": "fb7c41cb-9bd8-412f-9ce5-4e558dab9c2c"
   },
   "outputs": [
    {
     "data": {
      "text/plain": [
       "Index(['jobTitle', 'location', 'description', 'jobType', 'skills', 'jobId'], dtype='object')"
      ]
     },
     "execution_count": 37,
     "metadata": {},
     "output_type": "execute_result"
    }
   ],
   "source": [
    "jobs.columns"
   ]
  },
  {
   "cell_type": "markdown",
   "metadata": {
    "id": "lQaj9opK_F5g"
   },
   "source": [
    "# **Data Cleaning**"
   ]
  },
  {
   "cell_type": "code",
   "execution_count": 39,
   "metadata": {
    "id": "vCQ2-moT9W5_"
   },
   "outputs": [],
   "source": [
    "# Initialize the SimpleImputer with a strategy (e.g., 'most_frequent' for categorical, 'mean' for numerical)\n",
    "imputer = SimpleImputer(strategy='most_frequent')"
   ]
  },
  {
   "cell_type": "code",
   "execution_count": 40,
   "metadata": {
    "id": "UYOp6F-hGPhN"
   },
   "outputs": [],
   "source": [
    "# Impute missing values in each dataset\n",
    "ed = pd.DataFrame(imputer.fit_transform(ed), columns=ed.columns)\n",
    "emp = pd.DataFrame(imputer.fit_transform(emp), columns=emp.columns)\n",
    "jobs = pd.DataFrame(imputer.fit_transform(jobs), columns=jobs.columns)"
   ]
  },
  {
   "cell_type": "code",
   "execution_count": 41,
   "metadata": {
    "colab": {
     "base_uri": "https://localhost:8080/"
    },
    "id": "ElCv0a4yGPkq",
    "outputId": "390cb22d-8213-4e67-9e87-1f15bcd93dba"
   },
   "outputs": [
    {
     "name": "stdout",
     "output_type": "stream",
     "text": [
      "Missing values after imputation:\n",
      "Education missing values:\n",
      " Id                      0\n",
      "primaryPercentage       0\n",
      "secondaryPercentage     0\n",
      "graduationPercentage    0\n",
      "applicantId             0\n",
      "dtype: int64\n",
      "Employment missing values:\n",
      " employmentId    0\n",
      "uploadResume    0\n",
      "industry        0\n",
      "skills          0\n",
      "applicantId     0\n",
      "dtype: int64\n",
      "Jobs missing values:\n",
      " jobTitle       0\n",
      "location       0\n",
      "description    0\n",
      "jobType        0\n",
      "skills         0\n",
      "jobId          0\n",
      "dtype: int64\n"
     ]
    }
   ],
   "source": [
    "print(\"Missing values after imputation:\")\n",
    "print(\"Education missing values:\\n\", ed.isnull().sum())\n",
    "print(\"Employment missing values:\\n\", emp.isnull().sum())\n",
    "print(\"Jobs missing values:\\n\", jobs.isnull().sum())"
   ]
  },
  {
   "cell_type": "code",
   "execution_count": 42,
   "metadata": {
    "id": "dJ8Bdmmp5JNb"
   },
   "outputs": [],
   "source": [
    "# Standardize the format of the 'skills' column across all datasets\n",
    "def standardize_skills(skills):\n",
    "    return skills.lower().replace(',', ' ').replace(';', ' ').replace('/', ' ').split()\n",
    "\n",
    "emp['skills'] = emp['skills'].apply(standardize_skills)\n",
    "jobs['skills'] = jobs['skills'].apply(standardize_skills)"
   ]
  },
  {
   "cell_type": "markdown",
   "metadata": {
    "id": "yIxEJhiRROXp"
   },
   "source": [
    "# **Data Integration**"
   ]
  },
  {
   "cell_type": "code",
   "execution_count": 44,
   "metadata": {
    "colab": {
     "base_uri": "https://localhost:8080/"
    },
    "id": "0dy1yJqlEa4O",
    "outputId": "fcf34e4a-e86f-4feb-848a-1b20c38fbd92"
   },
   "outputs": [
    {
     "data": {
      "text/plain": [
       "Index(['Id', 'primaryPercentage', 'secondaryPercentage',\n",
       "       'graduationPercentage', 'applicantId', 'employmentId', 'uploadResume',\n",
       "       'industry', 'skills'],\n",
       "      dtype='object')"
      ]
     },
     "execution_count": 44,
     "metadata": {},
     "output_type": "execute_result"
    }
   ],
   "source": [
    "# Merge the education and employment datasets on applicantId\n",
    "merged_df = pd.merge(ed, emp, on='applicantId', how='inner')\n",
    "merged_df.columns"
   ]
  },
  {
   "cell_type": "markdown",
   "metadata": {
    "id": "eW53mAUhJpIR"
   },
   "source": [
    "# **Feature Engineering**"
   ]
  },
  {
   "cell_type": "code",
   "execution_count": 46,
   "metadata": {
    "id": "Ve0rsaDrO9PU"
   },
   "outputs": [],
   "source": [
    "# Convert all entries in the 'skills' columns to strings, then to lowercase, and fill missing values\n",
    "merged_df['skills'] = merged_df['skills'].astype(str).str.lower().fillna('')\n",
    "jobs['skills'] = jobs['skills'].astype(str).str.lower().fillna('')"
   ]
  },
  {
   "cell_type": "code",
   "execution_count": 47,
   "metadata": {
    "id": "lzh57jarQisv"
   },
   "outputs": [],
   "source": [
    "# Create a function to check if any of the applicant's skills match the job skills\n",
    "def match_skills(applicant_skills, job_skills):\n",
    "    applicant_skills_set = set(applicant_skills.split(', '))\n",
    "    job_skills_set = set(job_skills.split(', '))\n",
    "    return bool(applicant_skills_set & job_skills_set)"
   ]
  },
  {
   "cell_type": "code",
   "execution_count": 48,
   "metadata": {
    "colab": {
     "base_uri": "https://localhost:8080/",
     "height": 293
    },
    "id": "Sr0Ka_inQ1mc",
    "outputId": "cb912e4f-89f1-4d4f-c14d-4dcf392eb78b"
   },
   "outputs": [
    {
     "data": {
      "text/html": [
       "<div>\n",
       "<style scoped>\n",
       "    .dataframe tbody tr th:only-of-type {\n",
       "        vertical-align: middle;\n",
       "    }\n",
       "\n",
       "    .dataframe tbody tr th {\n",
       "        vertical-align: top;\n",
       "    }\n",
       "\n",
       "    .dataframe thead th {\n",
       "        text-align: right;\n",
       "    }\n",
       "</style>\n",
       "<table border=\"1\" class=\"dataframe\">\n",
       "  <thead>\n",
       "    <tr style=\"text-align: right;\">\n",
       "      <th></th>\n",
       "      <th>jobTitle</th>\n",
       "      <th>location</th>\n",
       "      <th>description</th>\n",
       "      <th>jobType</th>\n",
       "      <th>skills</th>\n",
       "      <th>jobId</th>\n",
       "    </tr>\n",
       "  </thead>\n",
       "  <tbody>\n",
       "    <tr>\n",
       "      <th>3</th>\n",
       "      <td>Azure Administrator</td>\n",
       "      <td>{\"Pan India\"}</td>\n",
       "      <td>1.\\tArchitecture and Design for large scale Az...</td>\n",
       "      <td>Permanent</td>\n",
       "      <td>['{\"azure', 'administrator', '\"}']</td>\n",
       "      <td>JDAA6310</td>\n",
       "    </tr>\n",
       "    <tr>\n",
       "      <th>5</th>\n",
       "      <td>Assistant Brand Manager</td>\n",
       "      <td>{Ghargaon}</td>\n",
       "      <td>Classification: All - Finance / Accounts / Inv...</td>\n",
       "      <td>Permanent</td>\n",
       "      <td>['{sales', '\"social', 'media', 'marketing\"', '...</td>\n",
       "      <td>JDAB3826</td>\n",
       "    </tr>\n",
       "    <tr>\n",
       "      <th>6</th>\n",
       "      <td>Azure BI Developer - Excellerate</td>\n",
       "      <td>{Hyderabad}</td>\n",
       "      <td>Resource must have 5+ years of hands on experi...</td>\n",
       "      <td>Permanent</td>\n",
       "      <td>['{azure', '\"', 'synapse\"', '\"', 'adf\"}']</td>\n",
       "      <td>JDAB7664</td>\n",
       "    </tr>\n",
       "    <tr>\n",
       "      <th>7</th>\n",
       "      <td>Angular Developer</td>\n",
       "      <td>{Hyderabad}</td>\n",
       "      <td>Requirements\\nHands-on experience in UI develo...</td>\n",
       "      <td>Permanent</td>\n",
       "      <td>['{angular', '\"rest', 'api\"}']</td>\n",
       "      <td>JDAD1928</td>\n",
       "    </tr>\n",
       "    <tr>\n",
       "      <th>8</th>\n",
       "      <td>Angular Developer</td>\n",
       "      <td>{Hyderabad}</td>\n",
       "      <td>Minimum Qualifications:\\nBachelor's degree in ...</td>\n",
       "      <td>Permanent</td>\n",
       "      <td>['{angular}']</td>\n",
       "      <td>JDAD1983</td>\n",
       "    </tr>\n",
       "  </tbody>\n",
       "</table>\n",
       "</div>"
      ],
      "text/plain": [
       "                           jobTitle       location  \\\n",
       "3              Azure Administrator   {\"Pan India\"}   \n",
       "5           Assistant Brand Manager     {Ghargaon}   \n",
       "6  Azure BI Developer - Excellerate    {Hyderabad}   \n",
       "7                 Angular Developer    {Hyderabad}   \n",
       "8                 Angular Developer    {Hyderabad}   \n",
       "\n",
       "                                         description    jobType  \\\n",
       "3  1.\\tArchitecture and Design for large scale Az...  Permanent   \n",
       "5  Classification: All - Finance / Accounts / Inv...  Permanent   \n",
       "6  Resource must have 5+ years of hands on experi...  Permanent   \n",
       "7  Requirements\\nHands-on experience in UI develo...  Permanent   \n",
       "8  Minimum Qualifications:\\nBachelor's degree in ...  Permanent   \n",
       "\n",
       "                                              skills     jobId  \n",
       "3                 ['{\"azure', 'administrator', '\"}']  JDAA6310  \n",
       "5  ['{sales', '\"social', 'media', 'marketing\"', '...  JDAB3826  \n",
       "6          ['{azure', '\"', 'synapse\"', '\"', 'adf\"}']  JDAB7664  \n",
       "7                     ['{angular', '\"rest', 'api\"}']  JDAD1928  \n",
       "8                                      ['{angular}']  JDAD1983  "
      ]
     },
     "execution_count": 48,
     "metadata": {},
     "output_type": "execute_result"
    }
   ],
   "source": [
    "# Filter the jobs dataframe\n",
    "filtered_jobs = jobs[jobs['skills'].apply(lambda x: any(\n",
    "    match_skills(applicant_skill, x) for applicant_skill in merged_df['skills']\n",
    "))]\n",
    "\n",
    "# Display the filtered jobs\n",
    "filtered_jobs.head()"
   ]
  },
  {
   "cell_type": "markdown",
   "metadata": {
    "id": "C4WLAl26RcVN"
   },
   "source": [
    "# **Model Building**"
   ]
  },
  {
   "cell_type": "markdown",
   "metadata": {
    "id": "wD5RT-X_UT3K"
   },
   "source": [
    "### Step 1: Combine Job Descriptions and Skills into a Single Feature"
   ]
  },
  {
   "cell_type": "code",
   "execution_count": 51,
   "metadata": {
    "colab": {
     "base_uri": "https://localhost:8080/",
     "height": 206
    },
    "id": "NklF3zhXQ2Yf",
    "outputId": "48bce27d-9c67-4bbe-ad61-b3b73de126f0"
   },
   "outputs": [
    {
     "data": {
      "text/html": [
       "<div>\n",
       "<style scoped>\n",
       "    .dataframe tbody tr th:only-of-type {\n",
       "        vertical-align: middle;\n",
       "    }\n",
       "\n",
       "    .dataframe tbody tr th {\n",
       "        vertical-align: top;\n",
       "    }\n",
       "\n",
       "    .dataframe thead th {\n",
       "        text-align: right;\n",
       "    }\n",
       "</style>\n",
       "<table border=\"1\" class=\"dataframe\">\n",
       "  <thead>\n",
       "    <tr style=\"text-align: right;\">\n",
       "      <th></th>\n",
       "      <th>jobTitle</th>\n",
       "      <th>combined_features</th>\n",
       "    </tr>\n",
       "  </thead>\n",
       "  <tbody>\n",
       "    <tr>\n",
       "      <th>0</th>\n",
       "      <td>Plant Maintenance Engineer</td>\n",
       "      <td>Read and understand the data from P&amp;ID, PEFS, ...</td>\n",
       "    </tr>\n",
       "    <tr>\n",
       "      <th>1</th>\n",
       "      <td>Adobe Analytics developer</td>\n",
       "      <td>An understanding of the marketing technologies...</td>\n",
       "    </tr>\n",
       "    <tr>\n",
       "      <th>2</th>\n",
       "      <td>AEM architect</td>\n",
       "      <td>To analyze, understand the client’s business u...</td>\n",
       "    </tr>\n",
       "    <tr>\n",
       "      <th>3</th>\n",
       "      <td>Azure Administrator</td>\n",
       "      <td>1.\\tArchitecture and Design for large scale Az...</td>\n",
       "    </tr>\n",
       "    <tr>\n",
       "      <th>4</th>\n",
       "      <td>AEM architect</td>\n",
       "      <td>Should have experience in java, OSGI, Componen...</td>\n",
       "    </tr>\n",
       "  </tbody>\n",
       "</table>\n",
       "</div>"
      ],
      "text/plain": [
       "                     jobTitle  \\\n",
       "0  Plant Maintenance Engineer   \n",
       "1   Adobe Analytics developer   \n",
       "2               AEM architect   \n",
       "3        Azure Administrator    \n",
       "4               AEM architect   \n",
       "\n",
       "                                   combined_features  \n",
       "0  Read and understand the data from P&ID, PEFS, ...  \n",
       "1  An understanding of the marketing technologies...  \n",
       "2  To analyze, understand the client’s business u...  \n",
       "3  1.\\tArchitecture and Design for large scale Az...  \n",
       "4  Should have experience in java, OSGI, Componen...  "
      ]
     },
     "execution_count": 51,
     "metadata": {},
     "output_type": "execute_result"
    }
   ],
   "source": [
    "# Combine the job description and skills into a single feature\n",
    "jobs['combined_features'] = jobs['description'] + ' ' + jobs['skills']\n",
    "jobs[['jobTitle', 'combined_features']].head()"
   ]
  },
  {
   "cell_type": "markdown",
   "metadata": {
    "id": "oPYEfJfiUoaM"
   },
   "source": [
    "### Step 2: Vectorize the Combined Features"
   ]
  },
  {
   "cell_type": "code",
   "execution_count": 53,
   "metadata": {
    "id": "focLlQDZSVD6"
   },
   "outputs": [],
   "source": [
    "# Initialize TF-IDF Vectorizer and transform the job skills\n",
    "tfidf_vectorizer = TfidfVectorizer(stop_words='english')"
   ]
  },
  {
   "cell_type": "code",
   "execution_count": 54,
   "metadata": {
    "colab": {
     "base_uri": "https://localhost:8080/"
    },
    "id": "VSlTWZa5SrhL",
    "outputId": "25c871dc-aca2-4e1c-b5bc-362019cf7d20"
   },
   "outputs": [
    {
     "data": {
      "text/plain": [
       "(307, 3672)"
      ]
     },
     "execution_count": 54,
     "metadata": {},
     "output_type": "execute_result"
    }
   ],
   "source": [
    "# Fit and transform the combined features\n",
    "tfidf_matrix = tfidf_vectorizer.fit_transform(jobs['combined_features'])\n",
    "tfidf_matrix.shape"
   ]
  },
  {
   "cell_type": "markdown",
   "metadata": {
    "id": "ZlWRSxZ-U31X"
   },
   "source": [
    "### Step 3: Compute the Cosine Similarity Matrix"
   ]
  },
  {
   "cell_type": "code",
   "execution_count": 56,
   "metadata": {
    "colab": {
     "base_uri": "https://localhost:8080/"
    },
    "id": "BgiVe0twS9-7",
    "outputId": "64ea8bf6-a840-4bb8-d3e3-101bca524510"
   },
   "outputs": [
    {
     "data": {
      "text/plain": [
       "array([[1.        , 0.08676152, 0.03274689, ..., 0.        , 0.0494567 ,\n",
       "        0.01844573],\n",
       "       [0.08676152, 1.        , 0.08878978, ..., 0.04140992, 0.08685324,\n",
       "        0.        ],\n",
       "       [0.03274689, 0.08878978, 1.        , ..., 0.04224572, 0.0406752 ,\n",
       "        0.        ],\n",
       "       ...,\n",
       "       [0.        , 0.04140992, 0.04224572, ..., 1.        , 0.12658502,\n",
       "        0.        ],\n",
       "       [0.0494567 , 0.08685324, 0.0406752 , ..., 0.12658502, 1.        ,\n",
       "        0.01468348],\n",
       "       [0.01844573, 0.        , 0.        , ..., 0.        , 0.01468348,\n",
       "        1.        ]])"
      ]
     },
     "execution_count": 56,
     "metadata": {},
     "output_type": "execute_result"
    }
   ],
   "source": [
    "# Compute the cosine similarity matrix\n",
    "cosine_sim = cosine_similarity(tfidf_matrix, tfidf_matrix)\n",
    "cosine_sim"
   ]
  },
  {
   "cell_type": "markdown",
   "metadata": {
    "id": "WqhCTUOOVsg-"
   },
   "source": [
    "### Step 4: Create a Function to Recommend Jobs"
   ]
  },
  {
   "cell_type": "code",
   "execution_count": 58,
   "metadata": {
    "id": "oM7Frwe-TdrZ"
   },
   "outputs": [],
   "source": [
    "# Create a reverse mapping of job titles to index\n",
    "job_indices = pd.Series(jobs.index, index=jobs['jobTitle']).drop_duplicates()\n",
    "\n",
    "def get_skill_based_recommendations(skills, tfidf_matrix=tfidf_matrix, tfidf_vectorizer=tfidf_vectorizer, jobs_df=jobs, top_n=4):\n",
    "    # Vectorize the input skills using the same TF-IDF vectorizer\n",
    "    skill_vector = tfidf_vectorizer.transform([skills])\n",
    "\n",
    "    # Compute the cosine similarity between the input skills and all job postings\n",
    "    skill_sim = cosine_similarity(skill_vector, tfidf_matrix)\n",
    "\n",
    "    # Get the pairwise similarity scores of all jobs with the input skills\n",
    "    sim_scores = list(enumerate(skill_sim[0]))\n",
    "\n",
    "    # Filter out jobs where the required skills are not mentioned in the job description or skills\n",
    "    filtered_scores = []\n",
    "    for idx, score in sim_scores:\n",
    "        job_skills = jobs_df['skills'].iloc[idx]\n",
    "        if any(skill.lower() in job_skills.lower() for skill in skills.split()):\n",
    "            filtered_scores.append((idx, score))\n",
    "\n",
    "    # Sort the jobs based on the similarity scores\n",
    "    filtered_scores = sorted(filtered_scores, key=lambda x: x[1], reverse=True)\n",
    "\n",
    "    # Get the scores of the top N most similar jobs\n",
    "    top_scores = filtered_scores[:top_n]\n",
    "\n",
    "    # Get the job indices\n",
    "    job_indices_list = [i[0] for i in top_scores]\n",
    "\n",
    "    # Return the top N most similar jobs\n",
    "    return jobs_df.iloc[job_indices_list]"
   ]
  },
  {
   "cell_type": "code",
   "execution_count": 59,
   "metadata": {
    "colab": {
     "base_uri": "https://localhost:8080/"
    },
    "id": "KF0ljsUacg2X",
    "outputId": "c8f64eea-9634-4f82-ddea-ca7632c42946"
   },
   "outputs": [
    {
     "name": "stdout",
     "output_type": "stream",
     "text": [
      "Job Title: Data Scientist\n",
      "Job Title: AI Engineer\n",
      "Job Title: Data Engineer\n",
      "Job Title: Sr Data Research Analyst\n"
     ]
    }
   ],
   "source": [
    "# Test the recommendation function\n",
    "recommended_jobs = get_skill_based_recommendations('Python, Machine Learning, Data Analyst')\n",
    "\n",
    "# Display the output neatly\n",
    "for job in recommended_jobs.itertuples():\n",
    "    print(f\"Job Title: {job.jobTitle}\")"
   ]
  },
  {
   "cell_type": "code",
   "execution_count": 60,
   "metadata": {
    "colab": {
     "base_uri": "https://localhost:8080/"
    },
    "id": "rNJUwIZ8IeRU",
    "outputId": "ca5fab13-fc2d-49a0-da1d-e1625392ab57"
   },
   "outputs": [
    {
     "name": "stdout",
     "output_type": "stream",
     "text": [
      "Precision: 0.9811827956989246\n",
      "Recall: 0.06451612903225806\n",
      "F1 Score: 0.056451612903225805\n"
     ]
    }
   ],
   "source": [
    "# Split the data into training and testing sets\n",
    "jobs_train, jobs_test = train_test_split(jobs, test_size=0.2, random_state=42)\n",
    "\n",
    "# Recreate the TF-IDF vectorizer and model using the training data\n",
    "tfidf_vectorizer = TfidfVectorizer(stop_words='english')\n",
    "tfidf_matrix_train = tfidf_vectorizer.fit_transform(jobs_train['skills'])\n",
    "\n",
    "# Function to get recommendations\n",
    "def get_recommendations(skills, tfidf_matrix, tfidf_vectorizer, jobs_df, top_n=5):\n",
    "    skills_tfidf = tfidf_vectorizer.transform([skills])\n",
    "    cosine_similarities = linear_kernel(skills_tfidf, tfidf_matrix).flatten()\n",
    "    related_job_indices = cosine_similarities.argsort()[-top_n:][::-1]\n",
    "    return jobs_df.iloc[related_job_indices]\n",
    "\n",
    "# Evaluate the model's performance\n",
    "y_true = []\n",
    "y_pred = []\n",
    "\n",
    "for i, row in jobs_test.iterrows():\n",
    "    skills = row['skills']\n",
    "    recommended_jobs = get_recommendations(skills, tfidf_matrix_train, tfidf_vectorizer, jobs_train)\n",
    "\n",
    "    true_job_title = row['jobTitle']\n",
    "    pred_job_titles = recommended_jobs['jobTitle'].values\n",
    "\n",
    "    y_true.append(true_job_title)\n",
    "    y_pred.append(pred_job_titles[0] if len(pred_job_titles) > 0 else 'No Recommendation')\n",
    "\n",
    "# Calculate precision, recall, and F1-score\n",
    "precision = precision_score(y_true, y_pred, average='weighted', zero_division=1)\n",
    "recall = recall_score(y_true, y_pred, average='weighted', zero_division=1)\n",
    "f1 = f1_score(y_true, y_pred, average='weighted', zero_division=1)\n",
    "\n",
    "print(f'Precision: {precision}')\n",
    "print(f'Recall: {recall}')\n",
    "print(f'F1 Score: {f1}')"
   ]
  },
  {
   "cell_type": "markdown",
   "metadata": {
    "id": "NMOSCv3nLe6c"
   },
   "source": [
    "# **Model Deployment**"
   ]
  },
  {
   "cell_type": "markdown",
   "metadata": {
    "id": "r6lfQm35L7oi"
   },
   "source": [
    "### Save the Model Components"
   ]
  },
  {
   "cell_type": "code",
   "execution_count": 63,
   "metadata": {
    "id": "HuDtm9KWKHOV"
   },
   "outputs": [],
   "source": [
    "import joblib\n",
    "\n",
    "# Save the TF-IDF vectorizer\n",
    "joblib.dump(tfidf_vectorizer, 'Streamlit/tfidf_vectorizer.pkl')\n",
    "\n",
    "# Save the job dataset\n",
    "jobs_train.to_csv('Streamlit/jobs_train.csv', index=False)"
   ]
  },
  {
   "cell_type": "markdown",
   "metadata": {
    "id": "KIucJFxKMQEx"
   },
   "source": [
    "Further step requires to create Streamlit App"
   ]
  }
 ],
 "metadata": {
  "accelerator": "GPU",
  "colab": {
   "gpuType": "T4",
   "provenance": []
  },
  "kernelspec": {
   "display_name": "Python 3 (ipykernel)",
   "language": "python",
   "name": "python3"
  },
  "language_info": {
   "codemirror_mode": {
    "name": "ipython",
    "version": 3
   },
   "file_extension": ".py",
   "mimetype": "text/x-python",
   "name": "python",
   "nbconvert_exporter": "python",
   "pygments_lexer": "ipython3",
   "version": "3.11.7"
  }
 },
 "nbformat": 4,
 "nbformat_minor": 4
}
